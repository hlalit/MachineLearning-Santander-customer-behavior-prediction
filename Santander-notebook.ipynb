{
 "cells": [
  {
   "cell_type": "raw",
   "metadata": {},
   "source": [
    "Santander : product recommendation system \n",
    "Date Created : 11/14/2016\n",
    "Created by : Harshad Lalit "
   ]
  },
  {
   "cell_type": "markdown",
   "metadata": {},
   "source": [
    "# Reading and Data Processing"
   ]
  },
  {
   "cell_type": "code",
   "execution_count": 2,
   "metadata": {
    "collapsed": false
   },
   "outputs": [
    {
     "data": {
      "text/html": [
       "<div>\n",
       "<table border=\"1\" class=\"dataframe\">\n",
       "  <thead>\n",
       "    <tr style=\"text-align: right;\">\n",
       "      <th></th>\n",
       "      <th>ncodpers</th>\n",
       "      <th>ind_nuevo</th>\n",
       "      <th>indrel</th>\n",
       "      <th>tipodom</th>\n",
       "      <th>cod_prov</th>\n",
       "      <th>ind_actividad_cliente</th>\n",
       "      <th>renta</th>\n",
       "      <th>ind_ahor_fin_ult1</th>\n",
       "      <th>ind_aval_fin_ult1</th>\n",
       "      <th>ind_cco_fin_ult1</th>\n",
       "      <th>...</th>\n",
       "      <th>ind_hip_fin_ult1</th>\n",
       "      <th>ind_plan_fin_ult1</th>\n",
       "      <th>ind_pres_fin_ult1</th>\n",
       "      <th>ind_reca_fin_ult1</th>\n",
       "      <th>ind_tjcr_fin_ult1</th>\n",
       "      <th>ind_valo_fin_ult1</th>\n",
       "      <th>ind_viv_fin_ult1</th>\n",
       "      <th>ind_nomina_ult1</th>\n",
       "      <th>ind_nom_pens_ult1</th>\n",
       "      <th>ind_recibo_ult1</th>\n",
       "    </tr>\n",
       "  </thead>\n",
       "  <tbody>\n",
       "    <tr>\n",
       "      <th>count</th>\n",
       "      <td>1.364731e+07</td>\n",
       "      <td>1.361958e+07</td>\n",
       "      <td>1.361958e+07</td>\n",
       "      <td>13619574.0</td>\n",
       "      <td>1.355372e+07</td>\n",
       "      <td>1.361958e+07</td>\n",
       "      <td>1.085293e+07</td>\n",
       "      <td>1.364731e+07</td>\n",
       "      <td>1.364731e+07</td>\n",
       "      <td>1.364731e+07</td>\n",
       "      <td>...</td>\n",
       "      <td>1.364731e+07</td>\n",
       "      <td>1.364731e+07</td>\n",
       "      <td>1.364731e+07</td>\n",
       "      <td>1.364731e+07</td>\n",
       "      <td>1.364731e+07</td>\n",
       "      <td>1.364731e+07</td>\n",
       "      <td>1.364731e+07</td>\n",
       "      <td>1.363125e+07</td>\n",
       "      <td>1.363125e+07</td>\n",
       "      <td>1.364731e+07</td>\n",
       "    </tr>\n",
       "    <tr>\n",
       "      <th>mean</th>\n",
       "      <td>8.349042e+05</td>\n",
       "      <td>5.956184e-02</td>\n",
       "      <td>1.178399e+00</td>\n",
       "      <td>1.0</td>\n",
       "      <td>2.657147e+01</td>\n",
       "      <td>4.578105e-01</td>\n",
       "      <td>1.342543e+05</td>\n",
       "      <td>1.022912e-04</td>\n",
       "      <td>2.315475e-05</td>\n",
       "      <td>6.554837e-01</td>\n",
       "      <td>...</td>\n",
       "      <td>5.886582e-03</td>\n",
       "      <td>9.170965e-03</td>\n",
       "      <td>2.627404e-03</td>\n",
       "      <td>5.253636e-02</td>\n",
       "      <td>4.438868e-02</td>\n",
       "      <td>2.560761e-02</td>\n",
       "      <td>3.847718e-03</td>\n",
       "      <td>5.472434e-02</td>\n",
       "      <td>5.942854e-02</td>\n",
       "      <td>1.279162e-01</td>\n",
       "    </tr>\n",
       "    <tr>\n",
       "      <th>std</th>\n",
       "      <td>4.315650e+05</td>\n",
       "      <td>2.366733e-01</td>\n",
       "      <td>4.177469e+00</td>\n",
       "      <td>0.0</td>\n",
       "      <td>1.278402e+01</td>\n",
       "      <td>4.982169e-01</td>\n",
       "      <td>2.306202e+05</td>\n",
       "      <td>1.011340e-02</td>\n",
       "      <td>4.811883e-03</td>\n",
       "      <td>4.752103e-01</td>\n",
       "      <td>...</td>\n",
       "      <td>7.649791e-02</td>\n",
       "      <td>9.532502e-02</td>\n",
       "      <td>5.119083e-02</td>\n",
       "      <td>2.231060e-01</td>\n",
       "      <td>2.059571e-01</td>\n",
       "      <td>1.579616e-01</td>\n",
       "      <td>6.191053e-02</td>\n",
       "      <td>2.274414e-01</td>\n",
       "      <td>2.364250e-01</td>\n",
       "      <td>3.339965e-01</td>\n",
       "    </tr>\n",
       "    <tr>\n",
       "      <th>min</th>\n",
       "      <td>1.588900e+04</td>\n",
       "      <td>0.000000e+00</td>\n",
       "      <td>1.000000e+00</td>\n",
       "      <td>1.0</td>\n",
       "      <td>1.000000e+00</td>\n",
       "      <td>0.000000e+00</td>\n",
       "      <td>1.202730e+03</td>\n",
       "      <td>0.000000e+00</td>\n",
       "      <td>0.000000e+00</td>\n",
       "      <td>0.000000e+00</td>\n",
       "      <td>...</td>\n",
       "      <td>0.000000e+00</td>\n",
       "      <td>0.000000e+00</td>\n",
       "      <td>0.000000e+00</td>\n",
       "      <td>0.000000e+00</td>\n",
       "      <td>0.000000e+00</td>\n",
       "      <td>0.000000e+00</td>\n",
       "      <td>0.000000e+00</td>\n",
       "      <td>0.000000e+00</td>\n",
       "      <td>0.000000e+00</td>\n",
       "      <td>0.000000e+00</td>\n",
       "    </tr>\n",
       "    <tr>\n",
       "      <th>25%</th>\n",
       "      <td>4.528130e+05</td>\n",
       "      <td>NaN</td>\n",
       "      <td>NaN</td>\n",
       "      <td>NaN</td>\n",
       "      <td>NaN</td>\n",
       "      <td>NaN</td>\n",
       "      <td>NaN</td>\n",
       "      <td>0.000000e+00</td>\n",
       "      <td>0.000000e+00</td>\n",
       "      <td>0.000000e+00</td>\n",
       "      <td>...</td>\n",
       "      <td>0.000000e+00</td>\n",
       "      <td>0.000000e+00</td>\n",
       "      <td>0.000000e+00</td>\n",
       "      <td>0.000000e+00</td>\n",
       "      <td>0.000000e+00</td>\n",
       "      <td>0.000000e+00</td>\n",
       "      <td>0.000000e+00</td>\n",
       "      <td>NaN</td>\n",
       "      <td>NaN</td>\n",
       "      <td>0.000000e+00</td>\n",
       "    </tr>\n",
       "    <tr>\n",
       "      <th>50%</th>\n",
       "      <td>9.318930e+05</td>\n",
       "      <td>NaN</td>\n",
       "      <td>NaN</td>\n",
       "      <td>NaN</td>\n",
       "      <td>NaN</td>\n",
       "      <td>NaN</td>\n",
       "      <td>NaN</td>\n",
       "      <td>0.000000e+00</td>\n",
       "      <td>0.000000e+00</td>\n",
       "      <td>1.000000e+00</td>\n",
       "      <td>...</td>\n",
       "      <td>0.000000e+00</td>\n",
       "      <td>0.000000e+00</td>\n",
       "      <td>0.000000e+00</td>\n",
       "      <td>0.000000e+00</td>\n",
       "      <td>0.000000e+00</td>\n",
       "      <td>0.000000e+00</td>\n",
       "      <td>0.000000e+00</td>\n",
       "      <td>NaN</td>\n",
       "      <td>NaN</td>\n",
       "      <td>0.000000e+00</td>\n",
       "    </tr>\n",
       "    <tr>\n",
       "      <th>75%</th>\n",
       "      <td>1.199286e+06</td>\n",
       "      <td>NaN</td>\n",
       "      <td>NaN</td>\n",
       "      <td>NaN</td>\n",
       "      <td>NaN</td>\n",
       "      <td>NaN</td>\n",
       "      <td>NaN</td>\n",
       "      <td>0.000000e+00</td>\n",
       "      <td>0.000000e+00</td>\n",
       "      <td>1.000000e+00</td>\n",
       "      <td>...</td>\n",
       "      <td>0.000000e+00</td>\n",
       "      <td>0.000000e+00</td>\n",
       "      <td>0.000000e+00</td>\n",
       "      <td>0.000000e+00</td>\n",
       "      <td>0.000000e+00</td>\n",
       "      <td>0.000000e+00</td>\n",
       "      <td>0.000000e+00</td>\n",
       "      <td>NaN</td>\n",
       "      <td>NaN</td>\n",
       "      <td>0.000000e+00</td>\n",
       "    </tr>\n",
       "    <tr>\n",
       "      <th>max</th>\n",
       "      <td>1.553689e+06</td>\n",
       "      <td>1.000000e+00</td>\n",
       "      <td>9.900000e+01</td>\n",
       "      <td>1.0</td>\n",
       "      <td>5.200000e+01</td>\n",
       "      <td>1.000000e+00</td>\n",
       "      <td>2.889440e+07</td>\n",
       "      <td>1.000000e+00</td>\n",
       "      <td>1.000000e+00</td>\n",
       "      <td>1.000000e+00</td>\n",
       "      <td>...</td>\n",
       "      <td>1.000000e+00</td>\n",
       "      <td>1.000000e+00</td>\n",
       "      <td>1.000000e+00</td>\n",
       "      <td>1.000000e+00</td>\n",
       "      <td>1.000000e+00</td>\n",
       "      <td>1.000000e+00</td>\n",
       "      <td>1.000000e+00</td>\n",
       "      <td>1.000000e+00</td>\n",
       "      <td>1.000000e+00</td>\n",
       "      <td>1.000000e+00</td>\n",
       "    </tr>\n",
       "  </tbody>\n",
       "</table>\n",
       "<p>8 rows × 31 columns</p>\n",
       "</div>"
      ],
      "text/plain": [
       "           ncodpers     ind_nuevo        indrel     tipodom      cod_prov  \\\n",
       "count  1.364731e+07  1.361958e+07  1.361958e+07  13619574.0  1.355372e+07   \n",
       "mean   8.349042e+05  5.956184e-02  1.178399e+00         1.0  2.657147e+01   \n",
       "std    4.315650e+05  2.366733e-01  4.177469e+00         0.0  1.278402e+01   \n",
       "min    1.588900e+04  0.000000e+00  1.000000e+00         1.0  1.000000e+00   \n",
       "25%    4.528130e+05           NaN           NaN         NaN           NaN   \n",
       "50%    9.318930e+05           NaN           NaN         NaN           NaN   \n",
       "75%    1.199286e+06           NaN           NaN         NaN           NaN   \n",
       "max    1.553689e+06  1.000000e+00  9.900000e+01         1.0  5.200000e+01   \n",
       "\n",
       "       ind_actividad_cliente         renta  ind_ahor_fin_ult1  \\\n",
       "count           1.361958e+07  1.085293e+07       1.364731e+07   \n",
       "mean            4.578105e-01  1.342543e+05       1.022912e-04   \n",
       "std             4.982169e-01  2.306202e+05       1.011340e-02   \n",
       "min             0.000000e+00  1.202730e+03       0.000000e+00   \n",
       "25%                      NaN           NaN       0.000000e+00   \n",
       "50%                      NaN           NaN       0.000000e+00   \n",
       "75%                      NaN           NaN       0.000000e+00   \n",
       "max             1.000000e+00  2.889440e+07       1.000000e+00   \n",
       "\n",
       "       ind_aval_fin_ult1  ind_cco_fin_ult1       ...         ind_hip_fin_ult1  \\\n",
       "count       1.364731e+07      1.364731e+07       ...             1.364731e+07   \n",
       "mean        2.315475e-05      6.554837e-01       ...             5.886582e-03   \n",
       "std         4.811883e-03      4.752103e-01       ...             7.649791e-02   \n",
       "min         0.000000e+00      0.000000e+00       ...             0.000000e+00   \n",
       "25%         0.000000e+00      0.000000e+00       ...             0.000000e+00   \n",
       "50%         0.000000e+00      1.000000e+00       ...             0.000000e+00   \n",
       "75%         0.000000e+00      1.000000e+00       ...             0.000000e+00   \n",
       "max         1.000000e+00      1.000000e+00       ...             1.000000e+00   \n",
       "\n",
       "       ind_plan_fin_ult1  ind_pres_fin_ult1  ind_reca_fin_ult1  \\\n",
       "count       1.364731e+07       1.364731e+07       1.364731e+07   \n",
       "mean        9.170965e-03       2.627404e-03       5.253636e-02   \n",
       "std         9.532502e-02       5.119083e-02       2.231060e-01   \n",
       "min         0.000000e+00       0.000000e+00       0.000000e+00   \n",
       "25%         0.000000e+00       0.000000e+00       0.000000e+00   \n",
       "50%         0.000000e+00       0.000000e+00       0.000000e+00   \n",
       "75%         0.000000e+00       0.000000e+00       0.000000e+00   \n",
       "max         1.000000e+00       1.000000e+00       1.000000e+00   \n",
       "\n",
       "       ind_tjcr_fin_ult1  ind_valo_fin_ult1  ind_viv_fin_ult1  \\\n",
       "count       1.364731e+07       1.364731e+07      1.364731e+07   \n",
       "mean        4.438868e-02       2.560761e-02      3.847718e-03   \n",
       "std         2.059571e-01       1.579616e-01      6.191053e-02   \n",
       "min         0.000000e+00       0.000000e+00      0.000000e+00   \n",
       "25%         0.000000e+00       0.000000e+00      0.000000e+00   \n",
       "50%         0.000000e+00       0.000000e+00      0.000000e+00   \n",
       "75%         0.000000e+00       0.000000e+00      0.000000e+00   \n",
       "max         1.000000e+00       1.000000e+00      1.000000e+00   \n",
       "\n",
       "       ind_nomina_ult1  ind_nom_pens_ult1  ind_recibo_ult1  \n",
       "count     1.363125e+07       1.363125e+07     1.364731e+07  \n",
       "mean      5.472434e-02       5.942854e-02     1.279162e-01  \n",
       "std       2.274414e-01       2.364250e-01     3.339965e-01  \n",
       "min       0.000000e+00       0.000000e+00     0.000000e+00  \n",
       "25%                NaN                NaN     0.000000e+00  \n",
       "50%                NaN                NaN     0.000000e+00  \n",
       "75%                NaN                NaN     0.000000e+00  \n",
       "max       1.000000e+00       1.000000e+00     1.000000e+00  \n",
       "\n",
       "[8 rows x 31 columns]"
      ]
     },
     "execution_count": 2,
     "metadata": {},
     "output_type": "execute_result"
    }
   ],
   "source": [
    "import numpy as np\n",
    "import pandas as pd\n",
    "import scipy \n",
    "import warnings \n",
    "\n",
    "warnings.filterwarnings(\"ignore\")\n",
    "\n",
    "santander_train = pd.read_csv('../Kaggle-Santander/train_ver2.csv')    \n",
    "\n",
    "santander_train.describe()"
   ]
  },
  {
   "cell_type": "raw",
   "metadata": {},
   "source": [
    "Total columns in the dataframe - 48\n",
    "Columns shows in the describe function - 31"
   ]
  },
  {
   "cell_type": "code",
   "execution_count": 3,
   "metadata": {
    "collapsed": false
   },
   "outputs": [
    {
     "data": {
      "text/html": [
       "<div>\n",
       "<table border=\"1\" class=\"dataframe\">\n",
       "  <thead>\n",
       "    <tr style=\"text-align: right;\">\n",
       "      <th></th>\n",
       "      <th>fecha_dato</th>\n",
       "      <th>ncodpers</th>\n",
       "      <th>ind_empleado</th>\n",
       "      <th>pais_residencia</th>\n",
       "      <th>sexo</th>\n",
       "      <th>age</th>\n",
       "      <th>fecha_alta</th>\n",
       "      <th>ind_nuevo</th>\n",
       "      <th>antiguedad</th>\n",
       "      <th>indrel</th>\n",
       "      <th>...</th>\n",
       "      <th>ind_hip_fin_ult1</th>\n",
       "      <th>ind_plan_fin_ult1</th>\n",
       "      <th>ind_pres_fin_ult1</th>\n",
       "      <th>ind_reca_fin_ult1</th>\n",
       "      <th>ind_tjcr_fin_ult1</th>\n",
       "      <th>ind_valo_fin_ult1</th>\n",
       "      <th>ind_viv_fin_ult1</th>\n",
       "      <th>ind_nomina_ult1</th>\n",
       "      <th>ind_nom_pens_ult1</th>\n",
       "      <th>ind_recibo_ult1</th>\n",
       "    </tr>\n",
       "  </thead>\n",
       "  <tbody>\n",
       "    <tr>\n",
       "      <th>0</th>\n",
       "      <td>2015-01-28</td>\n",
       "      <td>1375586</td>\n",
       "      <td>N</td>\n",
       "      <td>ES</td>\n",
       "      <td>H</td>\n",
       "      <td>35</td>\n",
       "      <td>2015-01-12</td>\n",
       "      <td>0.0</td>\n",
       "      <td>6</td>\n",
       "      <td>1.0</td>\n",
       "      <td>...</td>\n",
       "      <td>0</td>\n",
       "      <td>0</td>\n",
       "      <td>0</td>\n",
       "      <td>0</td>\n",
       "      <td>0</td>\n",
       "      <td>0</td>\n",
       "      <td>0</td>\n",
       "      <td>0.0</td>\n",
       "      <td>0.0</td>\n",
       "      <td>0</td>\n",
       "    </tr>\n",
       "    <tr>\n",
       "      <th>1</th>\n",
       "      <td>2015-01-28</td>\n",
       "      <td>1050611</td>\n",
       "      <td>N</td>\n",
       "      <td>ES</td>\n",
       "      <td>V</td>\n",
       "      <td>23</td>\n",
       "      <td>2012-08-10</td>\n",
       "      <td>0.0</td>\n",
       "      <td>35</td>\n",
       "      <td>1.0</td>\n",
       "      <td>...</td>\n",
       "      <td>0</td>\n",
       "      <td>0</td>\n",
       "      <td>0</td>\n",
       "      <td>0</td>\n",
       "      <td>0</td>\n",
       "      <td>0</td>\n",
       "      <td>0</td>\n",
       "      <td>0.0</td>\n",
       "      <td>0.0</td>\n",
       "      <td>0</td>\n",
       "    </tr>\n",
       "    <tr>\n",
       "      <th>2</th>\n",
       "      <td>2015-01-28</td>\n",
       "      <td>1050612</td>\n",
       "      <td>N</td>\n",
       "      <td>ES</td>\n",
       "      <td>V</td>\n",
       "      <td>23</td>\n",
       "      <td>2012-08-10</td>\n",
       "      <td>0.0</td>\n",
       "      <td>35</td>\n",
       "      <td>1.0</td>\n",
       "      <td>...</td>\n",
       "      <td>0</td>\n",
       "      <td>0</td>\n",
       "      <td>0</td>\n",
       "      <td>0</td>\n",
       "      <td>0</td>\n",
       "      <td>0</td>\n",
       "      <td>0</td>\n",
       "      <td>0.0</td>\n",
       "      <td>0.0</td>\n",
       "      <td>0</td>\n",
       "    </tr>\n",
       "    <tr>\n",
       "      <th>3</th>\n",
       "      <td>2015-01-28</td>\n",
       "      <td>1050613</td>\n",
       "      <td>N</td>\n",
       "      <td>ES</td>\n",
       "      <td>H</td>\n",
       "      <td>22</td>\n",
       "      <td>2012-08-10</td>\n",
       "      <td>0.0</td>\n",
       "      <td>35</td>\n",
       "      <td>1.0</td>\n",
       "      <td>...</td>\n",
       "      <td>0</td>\n",
       "      <td>0</td>\n",
       "      <td>0</td>\n",
       "      <td>0</td>\n",
       "      <td>0</td>\n",
       "      <td>0</td>\n",
       "      <td>0</td>\n",
       "      <td>0.0</td>\n",
       "      <td>0.0</td>\n",
       "      <td>0</td>\n",
       "    </tr>\n",
       "    <tr>\n",
       "      <th>4</th>\n",
       "      <td>2015-01-28</td>\n",
       "      <td>1050614</td>\n",
       "      <td>N</td>\n",
       "      <td>ES</td>\n",
       "      <td>V</td>\n",
       "      <td>23</td>\n",
       "      <td>2012-08-10</td>\n",
       "      <td>0.0</td>\n",
       "      <td>35</td>\n",
       "      <td>1.0</td>\n",
       "      <td>...</td>\n",
       "      <td>0</td>\n",
       "      <td>0</td>\n",
       "      <td>0</td>\n",
       "      <td>0</td>\n",
       "      <td>0</td>\n",
       "      <td>0</td>\n",
       "      <td>0</td>\n",
       "      <td>0.0</td>\n",
       "      <td>0.0</td>\n",
       "      <td>0</td>\n",
       "    </tr>\n",
       "  </tbody>\n",
       "</table>\n",
       "<p>5 rows × 48 columns</p>\n",
       "</div>"
      ],
      "text/plain": [
       "   fecha_dato  ncodpers ind_empleado pais_residencia sexo  age  fecha_alta  \\\n",
       "0  2015-01-28   1375586            N              ES    H   35  2015-01-12   \n",
       "1  2015-01-28   1050611            N              ES    V   23  2012-08-10   \n",
       "2  2015-01-28   1050612            N              ES    V   23  2012-08-10   \n",
       "3  2015-01-28   1050613            N              ES    H   22  2012-08-10   \n",
       "4  2015-01-28   1050614            N              ES    V   23  2012-08-10   \n",
       "\n",
       "   ind_nuevo antiguedad  indrel       ...        ind_hip_fin_ult1  \\\n",
       "0        0.0          6     1.0       ...                       0   \n",
       "1        0.0         35     1.0       ...                       0   \n",
       "2        0.0         35     1.0       ...                       0   \n",
       "3        0.0         35     1.0       ...                       0   \n",
       "4        0.0         35     1.0       ...                       0   \n",
       "\n",
       "  ind_plan_fin_ult1 ind_pres_fin_ult1 ind_reca_fin_ult1 ind_tjcr_fin_ult1  \\\n",
       "0                 0                 0                 0                 0   \n",
       "1                 0                 0                 0                 0   \n",
       "2                 0                 0                 0                 0   \n",
       "3                 0                 0                 0                 0   \n",
       "4                 0                 0                 0                 0   \n",
       "\n",
       "  ind_valo_fin_ult1 ind_viv_fin_ult1 ind_nomina_ult1  ind_nom_pens_ult1  \\\n",
       "0                 0                0             0.0                0.0   \n",
       "1                 0                0             0.0                0.0   \n",
       "2                 0                0             0.0                0.0   \n",
       "3                 0                0             0.0                0.0   \n",
       "4                 0                0             0.0                0.0   \n",
       "\n",
       "   ind_recibo_ult1  \n",
       "0                0  \n",
       "1                0  \n",
       "2                0  \n",
       "3                0  \n",
       "4                0  \n",
       "\n",
       "[5 rows x 48 columns]"
      ]
     },
     "execution_count": 3,
     "metadata": {},
     "output_type": "execute_result"
    }
   ],
   "source": [
    "santander_train.head()"
   ]
  },
  {
   "cell_type": "code",
   "execution_count": 4,
   "metadata": {
    "collapsed": false
   },
   "outputs": [
    {
     "name": "stdout",
     "output_type": "stream",
     "text": [
      "fecha_dato                object\n",
      "ncodpers                   int64\n",
      "ind_empleado              object\n",
      "pais_residencia           object\n",
      "sexo                      object\n",
      "age                       object\n",
      "fecha_alta                object\n",
      "ind_nuevo                float64\n",
      "antiguedad                object\n",
      "indrel                   float64\n",
      "ult_fec_cli_1t            object\n",
      "indrel_1mes               object\n",
      "tiprel_1mes               object\n",
      "indresi                   object\n",
      "indext                    object\n",
      "conyuemp                  object\n",
      "canal_entrada             object\n",
      "indfall                   object\n",
      "tipodom                  float64\n",
      "cod_prov                 float64\n",
      "nomprov                   object\n",
      "ind_actividad_cliente    float64\n",
      "renta                    float64\n",
      "segmento                  object\n",
      "ind_ahor_fin_ult1          int64\n",
      "ind_aval_fin_ult1          int64\n",
      "ind_cco_fin_ult1           int64\n",
      "ind_cder_fin_ult1          int64\n",
      "ind_cno_fin_ult1           int64\n",
      "ind_ctju_fin_ult1          int64\n",
      "ind_ctma_fin_ult1          int64\n",
      "ind_ctop_fin_ult1          int64\n",
      "ind_ctpp_fin_ult1          int64\n",
      "ind_deco_fin_ult1          int64\n",
      "ind_deme_fin_ult1          int64\n",
      "ind_dela_fin_ult1          int64\n",
      "ind_ecue_fin_ult1          int64\n",
      "ind_fond_fin_ult1          int64\n",
      "ind_hip_fin_ult1           int64\n",
      "ind_plan_fin_ult1          int64\n",
      "ind_pres_fin_ult1          int64\n",
      "ind_reca_fin_ult1          int64\n",
      "ind_tjcr_fin_ult1          int64\n",
      "ind_valo_fin_ult1          int64\n",
      "ind_viv_fin_ult1           int64\n",
      "ind_nomina_ult1          float64\n",
      "ind_nom_pens_ult1        float64\n",
      "ind_recibo_ult1            int64\n",
      "dtype: object\n"
     ]
    }
   ],
   "source": [
    "#datatypes of columns of the training set\n",
    "print(santander_train.dtypes)"
   ]
  },
  {
   "cell_type": "markdown",
   "metadata": {
    "collapsed": false
   },
   "source": [
    "# Data Cleaning"
   ]
  },
  {
   "cell_type": "code",
   "execution_count": 5,
   "metadata": {
    "collapsed": false
   },
   "outputs": [],
   "source": [
    "#covert segmento column VIP - 1.0, individuals - 02, students - 03\n",
    "santander_train.loc[santander_train.segmento == '01 - TOP','segmento'] = 1.0\n",
    "santander_train.loc[santander_train.segmento == '02 - PARTICULARES','segmento'] = 2.0\n",
    "santander_train.loc[santander_train.segmento == '03 - UNIVERSITARIO','segmento'] = 3.0\n",
    "\n",
    "#type number 2 is the most in quantity - fill NAN's with type number 2 \n",
    "santander_train.groupby('segmento').size()\n",
    "santander_train['segmento'] = santander_train['segmento'].fillna(2.0)"
   ]
  },
  {
   "cell_type": "code",
   "execution_count": 6,
   "metadata": {
    "collapsed": false
   },
   "outputs": [],
   "source": [
    "#province code (cod_prov) 28 has the maximum number of customers - fill NAN's with 28.0 \n",
    "santander_train.groupby('cod_prov').size()\n",
    "santander_train['cod_prov'] = santander_train['cod_prov'].fillna(28.0)"
   ]
  },
  {
   "cell_type": "code",
   "execution_count": 7,
   "metadata": {
    "collapsed": false
   },
   "outputs": [],
   "source": [
    "santander_train['tipodom'] = santander_train['tipodom'].fillna(1.0)"
   ]
  },
  {
   "cell_type": "code",
   "execution_count": 8,
   "metadata": {
    "collapsed": false
   },
   "outputs": [],
   "source": [
    "#deceased code (N) is the maximum in column 'indfall'\n",
    "santander_train.loc[santander_train.indfall == 'N','indfall'] = 0.0\n",
    "santander_train.loc[santander_train.indfall == 'S','indfall'] = 1.0\n",
    "\n",
    "santander_train['indfall'] = santander_train['indfall'].fillna(0.0)"
   ]
  },
  {
   "cell_type": "code",
   "execution_count": 9,
   "metadata": {
    "collapsed": true
   },
   "outputs": [],
   "source": [
    "#channel used by the customer to join\n",
    "santander_train['canal_entrada'] = santander_train['canal_entrada'].fillna(50000)\n",
    "uniq_channel = santander_train['canal_entrada'].unique()\n",
    "\n",
    "nuniq = uniq_channel.shape       "
   ]
  },
  {
   "cell_type": "code",
   "execution_count": 10,
   "metadata": {
    "collapsed": true
   },
   "outputs": [],
   "source": [
    "#replacing the unique channels (canal_entrada) with number codes\n",
    "for i in range(0,nuniq[0]):\n",
    "    santander_train.loc[santander_train.canal_entrada == uniq_channel[i], 'canal_entrada'] = i "
   ]
  },
  {
   "cell_type": "code",
   "execution_count": 11,
   "metadata": {
    "collapsed": false
   },
   "outputs": [],
   "source": [
    "#replacing the spouse index (conyuemp) with number codes\n",
    "santander_train.loc[santander_train.conyuemp == 'N','conyuemp'] = 0.0\n",
    "santander_train.loc[santander_train.conyuemp == 'S','conyuemp'] = 1.0\n",
    "\n",
    "santander_train['conyuemp'] = santander_train['conyuemp'].fillna(0.0)"
   ]
  },
  {
   "cell_type": "code",
   "execution_count": 12,
   "metadata": {
    "collapsed": false
   },
   "outputs": [],
   "source": [
    "#replacing the foreigner index (conyuemp) with number codes\n",
    "santander_train.loc[santander_train.indext == 'N','indext'] = 0.0\n",
    "santander_train.loc[santander_train.indext == 'S','indext'] = 1.0\n",
    "\n",
    "santander_train['indext'] = santander_train['indext'].fillna(0.0)"
   ]
  },
  {
   "cell_type": "code",
   "execution_count": 13,
   "metadata": {
    "collapsed": false
   },
   "outputs": [],
   "source": [
    "#replacing the residence index (indresi) with number codes\n",
    "santander_train.loc[santander_train.indresi == 'N','indresi'] = 0.0 #bank country != residence country\n",
    "santander_train.loc[santander_train.indresi == 'S','indresi'] = 1.0 #bank country == residence country\n",
    "\n",
    "santander_train['indresi'] = santander_train['indresi'].fillna(1.0)"
   ]
  },
  {
   "cell_type": "code",
   "execution_count": 14,
   "metadata": {
    "collapsed": false
   },
   "outputs": [],
   "source": [
    "#replacing the customer relation index (tiprel_1mes) with number codes\n",
    "santander_train.groupby('tiprel_1mes').size()\n",
    "\n",
    "santander_train.loc[santander_train.tiprel_1mes == 'I','tiprel_1mes'] = 0.0 #inactive \n",
    "santander_train.loc[santander_train.tiprel_1mes == 'A','tiprel_1mes'] = 1.0 #active\n",
    "santander_train.loc[santander_train.tiprel_1mes == 'N','tiprel_1mes'] = 2.0 #new customer\n",
    "santander_train.loc[santander_train.tiprel_1mes == 'P','tiprel_1mes'] = 3.0 #former\n",
    "santander_train.loc[santander_train.tiprel_1mes == 'R','tiprel_1mes'] = 4.0 #potential\n",
    "\n",
    "santander_train['tiprel_1mes'] = santander_train['tiprel_1mes'].fillna(0.0)"
   ]
  },
  {
   "cell_type": "code",
   "execution_count": 15,
   "metadata": {
    "collapsed": false
   },
   "outputs": [],
   "source": [
    "#replacing the primary customer 'indrel' column with number codes (1/99)\n",
    "#1.0 : primary customer \n",
    "#99.0 : primary during but towards the end\n",
    "santander_train.groupby('indrel').size()\n",
    "santander_train['indrel'] = santander_train['indrel'].fillna(1.0)"
   ]
  },
  {
   "cell_type": "code",
   "execution_count": 16,
   "metadata": {
    "collapsed": false
   },
   "outputs": [],
   "source": [
    "#replacing the 'customer index ind_nuevo' column with number codes (0.0/1.0)\n",
    "#0.0 : customer did not register within last 6 months \n",
    "#1.0 : customer did register within last 6 months\n",
    "santander_train.groupby('ind_nuevo').size()\n",
    "\n",
    "santander_train['ind_nuevo'] = santander_train['ind_nuevo'].fillna(0.0)"
   ]
  },
  {
   "cell_type": "code",
   "execution_count": 17,
   "metadata": {
    "collapsed": false
   },
   "outputs": [],
   "source": [
    "#replacing the 'sexo' column with number codes (H (0.0)/V (1.0))\n",
    "santander_train.groupby('sexo').size()\n",
    "\n",
    "santander_train.loc[santander_train.sexo == 'H','sexo'] = 0.0 \n",
    "santander_train.loc[santander_train.sexo == 'V','sexo'] = 1.0 \n",
    "santander_train['sexo'] = santander_train['sexo'].fillna(1.0)"
   ]
  },
  {
   "cell_type": "code",
   "execution_count": 18,
   "metadata": {
    "collapsed": false
   },
   "outputs": [],
   "source": [
    "santander_train['pais_residencia'] = santander_train['pais_residencia'].fillna(50000)\n",
    "uniq_country = santander_train['pais_residencia'].unique()\n",
    "\n",
    "nuniq_country = uniq_country.shape"
   ]
  },
  {
   "cell_type": "code",
   "execution_count": 19,
   "metadata": {
    "collapsed": true
   },
   "outputs": [],
   "source": [
    "#replacing the unique country of residence (pais_residencia) with number codes\n",
    "for i in range(0,nuniq_country[0]):\n",
    "    santander_train.loc[santander_train.pais_residencia == uniq_country[i], 'pais_residencia'] = i "
   ]
  },
  {
   "cell_type": "code",
   "execution_count": 20,
   "metadata": {
    "collapsed": false
   },
   "outputs": [],
   "source": [
    "santander_train['ind_empleado'].unique()\n",
    "santander_train.groupby('ind_empleado').size()\n",
    "\n",
    "#replacing the employee index 'ind_empleado' column with number codes\n",
    "santander_train.loc[santander_train.ind_empleado == 'A','ind_empleado'] = 1.0 #A\n",
    "santander_train.loc[santander_train.ind_empleado == 'B','ind_empleado'] = 2.0 #B\n",
    "santander_train.loc[santander_train.ind_empleado == 'F','ind_empleado'] = 3.0 #F\n",
    "santander_train.loc[santander_train.ind_empleado == 'N','ind_empleado'] = 4.0 #N\n",
    "santander_train.loc[santander_train.ind_empleado == 'S','ind_empleado'] = 5.0 #S\n",
    "\n",
    "santander_train['ind_empleado'] = santander_train['ind_empleado'].fillna(4.0)"
   ]
  },
  {
   "cell_type": "code",
   "execution_count": 21,
   "metadata": {
    "collapsed": false
   },
   "outputs": [],
   "source": [
    "santander_train['nomprov'] = santander_train['nomprov'].fillna('UNKNOWN')\n",
    "uniq_prov = santander_train['nomprov'].unique()\n",
    "\n",
    "nuniq_prov = uniq_prov.shape"
   ]
  },
  {
   "cell_type": "code",
   "execution_count": 22,
   "metadata": {
    "collapsed": true
   },
   "outputs": [],
   "source": [
    "#replacing the unique province 'nomprov' column with number codes\n",
    "for i in range(0,nuniq_prov[0]):\n",
    "    santander_train.loc[santander_train.nomprov == uniq_prov[i], 'nomprov'] = i"
   ]
  },
  {
   "cell_type": "code",
   "execution_count": 23,
   "metadata": {
    "collapsed": false
   },
   "outputs": [
    {
     "data": {
      "text/plain": [
       "2794375"
      ]
     },
     "execution_count": 23,
     "metadata": {},
     "output_type": "execute_result"
    }
   ],
   "source": [
    "santander_train['renta'].isnull().sum()"
   ]
  },
  {
   "cell_type": "code",
   "execution_count": 24,
   "metadata": {
    "collapsed": false
   },
   "outputs": [
    {
     "data": {
      "text/plain": [
       "0"
      ]
     },
     "execution_count": 24,
     "metadata": {},
     "output_type": "execute_result"
    }
   ],
   "source": [
    "santander_train['renta'] = santander_train['renta'].fillna(santander_train['renta'].mean())\n",
    "santander_train['renta'].isnull().sum()"
   ]
  },
  {
   "cell_type": "code",
   "execution_count": 25,
   "metadata": {
    "collapsed": false
   },
   "outputs": [],
   "source": [
    "#replacing the activity index 'ind_actividad_cliente' column with number codes\n",
    "santander_train.groupby('ind_actividad_cliente').size()\n",
    "santander_train['ind_actividad_cliente'] = santander_train['ind_actividad_cliente'].fillna(0.0)"
   ]
  },
  {
   "cell_type": "code",
   "execution_count": 26,
   "metadata": {
    "collapsed": false
   },
   "outputs": [],
   "source": [
    "#delete list of rows from dataframe\n",
    "sample = []\n",
    "\n",
    "for i in range(24,48):\n",
    "    sample.append(i)\n",
    "    \n",
    "santander = santander_train\n",
    "santander = santander.drop(santander.columns[sample], axis = 1) "
   ]
  },
  {
   "cell_type": "code",
   "execution_count": 27,
   "metadata": {
    "collapsed": false
   },
   "outputs": [
    {
     "data": {
      "text/plain": [
       "fecha_dato                      0\n",
       "ncodpers                        0\n",
       "ind_empleado                    0\n",
       "pais_residencia                 0\n",
       "sexo                            0\n",
       "age                             0\n",
       "fecha_alta                  27734\n",
       "ind_nuevo                       0\n",
       "antiguedad                      0\n",
       "indrel                          0\n",
       "ult_fec_cli_1t           13622516\n",
       "indrel_1mes                149781\n",
       "tiprel_1mes                     0\n",
       "indresi                         0\n",
       "indext                          0\n",
       "conyuemp                        0\n",
       "canal_entrada                   0\n",
       "indfall                         0\n",
       "tipodom                         0\n",
       "cod_prov                        0\n",
       "nomprov                         0\n",
       "ind_actividad_cliente           0\n",
       "renta                           0\n",
       "segmento                        0\n",
       "dtype: int64"
      ]
     },
     "execution_count": 27,
     "metadata": {},
     "output_type": "execute_result"
    }
   ],
   "source": [
    "santander.isnull().sum()"
   ]
  },
  {
   "cell_type": "code",
   "execution_count": 28,
   "metadata": {
    "collapsed": true
   },
   "outputs": [],
   "source": [
    "#replacing the customer type 'indrel_1mes' column with number codes\n",
    "santander['indrel_1mes'] = santander['indrel_1mes'].fillna(1.0)\n",
    "santander.loc[santander.indrel_1mes == 'P','indrel_1mes'] = 5.0 #P"
   ]
  },
  {
   "cell_type": "code",
   "execution_count": 29,
   "metadata": {
    "collapsed": false
   },
   "outputs": [
    {
     "data": {
      "text/plain": [
       "indrel_1mes\n",
       "1.0    7427388\n",
       "2.0        355\n",
       "3.0       1409\n",
       "4.0         93\n",
       "5.0        874\n",
       "1      2195328\n",
       "1.0    4017746\n",
       "2          483\n",
       "2.0        479\n",
       "3         1137\n",
       "3.0       1804\n",
       "4           70\n",
       "4.0        143\n",
       "dtype: int64"
      ]
     },
     "execution_count": 29,
     "metadata": {},
     "output_type": "execute_result"
    }
   ],
   "source": [
    "santander.groupby('indrel_1mes').size()"
   ]
  },
  {
   "cell_type": "code",
   "execution_count": 30,
   "metadata": {
    "collapsed": false
   },
   "outputs": [],
   "source": [
    "santander['indrel_1mes'] = santander['indrel_1mes'].astype('float64')"
   ]
  },
  {
   "cell_type": "code",
   "execution_count": 31,
   "metadata": {
    "collapsed": false
   },
   "outputs": [
    {
     "data": {
      "text/plain": [
       "indrel_1mes\n",
       "1.0    13640462\n",
       "2.0        1317\n",
       "3.0        4350\n",
       "4.0         306\n",
       "5.0         874\n",
       "dtype: int64"
      ]
     },
     "execution_count": 31,
     "metadata": {},
     "output_type": "execute_result"
    }
   ],
   "source": [
    "santander.groupby('indrel_1mes').size()"
   ]
  },
  {
   "cell_type": "code",
   "execution_count": 32,
   "metadata": {
    "collapsed": false
   },
   "outputs": [],
   "source": [
    "#converting the columns into float\n",
    "santander[['pais_residencia','ncodpers','nomprov','canal_entrada']] = santander[['pais_residencia','ncodpers','nomprov','canal_entrada']].astype('float64')"
   ]
  },
  {
   "cell_type": "code",
   "execution_count": 33,
   "metadata": {
    "collapsed": false
   },
   "outputs": [],
   "source": [
    "#droping columns\n",
    "santander = santander.drop(['fecha_alta','ult_fec_cli_1t'], axis = 1)"
   ]
  },
  {
   "cell_type": "code",
   "execution_count": 34,
   "metadata": {
    "collapsed": true
   },
   "outputs": [],
   "source": [
    "santander['age'] = pd.to_numeric(santander['age'],errors = \"coerce\")\n",
    "santander['age'] = santander['age'].fillna(santander['age'].mean())"
   ]
  },
  {
   "cell_type": "code",
   "execution_count": 35,
   "metadata": {
    "collapsed": false
   },
   "outputs": [],
   "source": [
    "santander['antiguedad'] = pd.to_numeric(santander['antiguedad'],errors = \"coerce\")\n",
    "santander['antiguedad'] = santander['antiguedad'].astype('float64')"
   ]
  },
  {
   "cell_type": "code",
   "execution_count": 36,
   "metadata": {
    "collapsed": false
   },
   "outputs": [],
   "source": [
    "santander.loc[santander['antiguedad'] == -999999, 'antiguedad'] = 0.0"
   ]
  },
  {
   "cell_type": "code",
   "execution_count": 37,
   "metadata": {
    "collapsed": false
   },
   "outputs": [],
   "source": [
    "santander['antiguedad'] = santander['antiguedad'].fillna(santander['antiguedad'].median())"
   ]
  },
  {
   "cell_type": "code",
   "execution_count": 38,
   "metadata": {
    "collapsed": false
   },
   "outputs": [],
   "source": [
    "santander.loc[santander.indrel == 99,'indrel'] = 0.0"
   ]
  },
  {
   "cell_type": "markdown",
   "metadata": {
    "collapsed": true
   },
   "source": [
    "# Data Visualization"
   ]
  },
  {
   "cell_type": "code",
   "execution_count": 39,
   "metadata": {
    "collapsed": false
   },
   "outputs": [
    {
     "name": "stdout",
     "output_type": "stream",
     "text": [
      "Populating the interactive namespace from numpy and matplotlib\n"
     ]
    }
   ],
   "source": [
    "import matplotlib.pyplot as plt\n",
    "import seaborn as sns\n",
    "\n",
    "%matplotlib inline\n",
    "%pylab inline"
   ]
  },
  {
   "cell_type": "code",
   "execution_count": 40,
   "metadata": {
    "collapsed": false
   },
   "outputs": [
    {
     "data": {
      "text/plain": [
       "array(['2015-01-28', '2015-02-28', '2015-03-28', '2015-04-28',\n",
       "       '2015-05-28', '2015-06-28', '2015-07-28', '2015-08-28',\n",
       "       '2015-09-28', '2015-10-28', '2015-11-28', '2015-12-28',\n",
       "       '2016-01-28', '2016-02-28', '2016-03-28', '2016-04-28', '2016-05-28'], dtype=object)"
      ]
     },
     "execution_count": 40,
     "metadata": {},
     "output_type": "execute_result"
    }
   ],
   "source": [
    "#data is segmented on a monthly basis\n",
    "santander['fecha_dato'].unique()"
   ]
  },
  {
   "cell_type": "code",
   "execution_count": 41,
   "metadata": {
    "collapsed": false,
    "scrolled": false
   },
   "outputs": [
    {
     "data": {
      "image/png": "[encoded data removed]",
      "text/plain": [
       "<matplotlib.figure.Figure at 0x10cd985c0>"
      ]
     },
     "metadata": {},
     "output_type": "display_data"
    }
   ],
   "source": [
    "uniq_date = santander['fecha_dato'].unique()\n",
    "ndates = uniq_date.shape\n",
    "\n",
    "santander_dates = santander.groupby('fecha_dato')\n",
    "\n",
    "fig, axs = plt.subplots(4,4, figsize=(20, 10), facecolor='w', edgecolor='k')\n",
    "fig.subplots_adjust(hspace = 0.5, wspace=1.0)\n",
    "\n",
    "axs = axs.ravel()\n",
    "\n",
    "for i in range(0,ndates[0]-1):\n",
    "    temp = santander_dates.get_group(uniq_date[i])\n",
    "    \n",
    "    with sns.plotting_context(\"notebook\",font_scale=1.5):\n",
    "        sns.set_style(\"whitegrid\")\n",
    "        sns.distplot(temp['age'],\n",
    "                     bins=80,\n",
    "                     kde=False,\n",
    "                     ax = axs[i],\n",
    "                     color=\"red\")\n",
    "        axs[i].set_ylabel('frequency')\n",
    "        axs[i].set_xlabel('age (years)')\n",
    "        axs[i].set_xlim([0, 140])\n",
    "        axs[i].set_ylim([0, 100000])\n",
    "plt.suptitle('Customer age (years)- month wise distribution',size = 16)\n",
    "plt.show()"
   ]
  },
  {
   "cell_type": "code",
   "execution_count": 42,
   "metadata": {
    "collapsed": false,
    "scrolled": false
   },
   "outputs": [
    {
     "data": {
      "image/png": "[encoded data removed]",
      "text/plain": [
       "<matplotlib.figure.Figure at 0x10d961860>"
      ]
     },
     "metadata": {},
     "output_type": "display_data"
    }
   ],
   "source": [
    "fig, axs = plt.subplots(4,4, figsize=(20, 10), facecolor='w', edgecolor='k')\n",
    "fig.subplots_adjust(hspace = 0.5, wspace=1.0)\n",
    "\n",
    "axs = axs.ravel()\n",
    "\n",
    "for i in range(0,ndates[0]-1):\n",
    "    temp = santander_dates.get_group(uniq_date[i])\n",
    "    \n",
    "    with sns.plotting_context(\"notebook\",font_scale=1.5):\n",
    "        sns.set_style(\"whitegrid\")\n",
    "        sns.distplot(temp['antiguedad'],\n",
    "                     bins=80,\n",
    "                     kde=False,\n",
    "                     ax = axs[i],\n",
    "                     color=\"blue\")\n",
    "        axs[i].set_ylabel('frequency')\n",
    "        axs[i].set_xlabel('Seniority (months)')\n",
    "        axs[i].set_xlim([0, 250])\n",
    "        axs[i].set_ylim([0, 65000])\n",
    "plt.suptitle('Customer seniority with bank (months)- month wise distribution',size = 16)\n",
    "plt.show()"
   ]
  },
  {
   "cell_type": "code",
   "execution_count": 43,
   "metadata": {
    "collapsed": true
   },
   "outputs": [],
   "source": [
    "#grouing the data based on the name of the province (nomprov)\n",
    "santander_prov = santander"
   ]
  },
  {
   "cell_type": "code",
   "execution_count": 44,
   "metadata": {
    "collapsed": false
   },
   "outputs": [],
   "source": [
    "santander_prov = santander_prov.drop_duplicates(['ncodpers'])\n",
    "santander_prov = santander_prov.groupby('nomprov')"
   ]
  },
  {
   "cell_type": "code",
   "execution_count": 45,
   "metadata": {
    "collapsed": false
   },
   "outputs": [],
   "source": [
    "santander_prov = santander_prov['renta'].agg({'Mean-Income' : np.mean,\n",
    "                                              'Median-Income' : np.median})"
   ]
  },
  {
   "cell_type": "code",
   "execution_count": 46,
   "metadata": {
    "collapsed": false
   },
   "outputs": [],
   "source": [
    "nomprov = np.arange(53)\n",
    "df1 = pd.DataFrame({\"ID\":nomprov,\"Province\":uniq_prov})\n",
    "santander_prov = santander_prov.join(df1)\n",
    "santander_prov = santander_prov.sort(['Mean-Income'],ascending = True)"
   ]
  },
  {
   "cell_type": "code",
   "execution_count": 47,
   "metadata": {
    "collapsed": false
   },
   "outputs": [
    {
     "data": {
      "text/html": [
       "<div>\n",
       "<table border=\"1\" class=\"dataframe\">\n",
       "  <thead>\n",
       "    <tr style=\"text-align: right;\">\n",
       "      <th></th>\n",
       "      <th>Median-Income</th>\n",
       "      <th>Mean-Income</th>\n",
       "      <th>ID</th>\n",
       "      <th>Province</th>\n",
       "    </tr>\n",
       "    <tr>\n",
       "      <th>nomprov</th>\n",
       "      <th></th>\n",
       "      <th></th>\n",
       "      <th></th>\n",
       "      <th></th>\n",
       "    </tr>\n",
       "  </thead>\n",
       "  <tbody>\n",
       "    <tr>\n",
       "      <th>1.0</th>\n",
       "      <td>71954.040</td>\n",
       "      <td>82858.271464</td>\n",
       "      <td>1</td>\n",
       "      <td>CIUDAD REAL</td>\n",
       "    </tr>\n",
       "    <tr>\n",
       "      <th>31.0</th>\n",
       "      <td>83255.235</td>\n",
       "      <td>86689.546639</td>\n",
       "      <td>31</td>\n",
       "      <td>CUENCA</td>\n",
       "    </tr>\n",
       "    <tr>\n",
       "      <th>36.0</th>\n",
       "      <td>80105.580</td>\n",
       "      <td>88507.531373</td>\n",
       "      <td>36</td>\n",
       "      <td>BADAJOZ</td>\n",
       "    </tr>\n",
       "    <tr>\n",
       "      <th>45.0</th>\n",
       "      <td>79714.110</td>\n",
       "      <td>89682.304558</td>\n",
       "      <td>45</td>\n",
       "      <td>HUELVA</td>\n",
       "    </tr>\n",
       "    <tr>\n",
       "      <th>14.0</th>\n",
       "      <td>80525.265</td>\n",
       "      <td>90487.451499</td>\n",
       "      <td>14</td>\n",
       "      <td>AVILA</td>\n",
       "    </tr>\n",
       "  </tbody>\n",
       "</table>\n",
       "</div>"
      ],
      "text/plain": [
       "         Median-Income   Mean-Income  ID     Province\n",
       "nomprov                                              \n",
       "1.0          71954.040  82858.271464   1  CIUDAD REAL\n",
       "31.0         83255.235  86689.546639  31       CUENCA\n",
       "36.0         80105.580  88507.531373  36      BADAJOZ\n",
       "45.0         79714.110  89682.304558  45       HUELVA\n",
       "14.0         80525.265  90487.451499  14        AVILA"
      ]
     },
     "execution_count": 47,
     "metadata": {},
     "output_type": "execute_result"
    }
   ],
   "source": [
    "santander_prov.head()"
   ]
  },
  {
   "cell_type": "code",
   "execution_count": 48,
   "metadata": {
    "collapsed": false
   },
   "outputs": [
    {
     "data": {
      "image/png": "[encoded data removed]",
      "text/plain": [
       "<matplotlib.figure.Figure at 0x10f0f8ef0>"
      ]
     },
     "metadata": {},
     "output_type": "display_data"
    }
   ],
   "source": [
    "xlabels = uniq_prov.tolist()\n",
    "fig, ax = plt.subplots(1,1, figsize=(11, 4), facecolor='r', edgecolor='k')\n",
    "plt.plot(np.arange(53),santander_prov['Mean-Income'],'ro')\n",
    "plt.xticks(santander_prov['ID'],xlabels,rotation = 90)\n",
    "plt.xlim(-1,53)\n",
    "plt.tick_params(labelsize=12)\n",
    "plt.xlabel(\"City\",color = \"k\",size = '16')\n",
    "plt.ylabel(\"Mean Income ($)\",color = \"k\",size = '16') \n",
    "plt.show()"
   ]
  },
  {
   "cell_type": "markdown",
   "metadata": {
    "collapsed": true
   },
   "source": [
    "# Learning Training Data"
   ]
  },
  {
   "cell_type": "markdown",
   "metadata": {
    "collapsed": true
   },
   "source": [
    "Feature normalization of the training set"
   ]
  },
  {
   "cell_type": "code",
   "execution_count": 49,
   "metadata": {
    "collapsed": false
   },
   "outputs": [],
   "source": [
    "santander_norm = santander\n",
    "max_arr = np.array([2,9,10,21]) #calculated manually \n",
    "mean_arr = np.array([3,5,7,14,17,18,20]) #calculated manually \n",
    "\n",
    "for i in max_arr:\n",
    "    maxi = np.max(santander_norm.iloc[:,i])\n",
    "    santander_norm.iloc[:,i] = santander_norm.iloc[:,i]/maxi\n",
    "    \n",
    "for i in mean_arr:\n",
    "    avg = np.mean(santander_norm.iloc[:,i])\n",
    "    var = np.std(santander_norm.iloc[:,i])\n",
    "    santander_norm.iloc[:,i] = (santander_norm.iloc[:,i] - avg)/var\n",
    "\n",
    "santander_dates = santander_norm.groupby('fecha_dato')"
   ]
  },
  {
   "cell_type": "code",
   "execution_count": 50,
   "metadata": {
    "collapsed": false
   },
   "outputs": [],
   "source": [
    "#creating a dataframe for the products\n",
    "sample = []\n",
    "\n",
    "for i in range(1,24): #dropping columns frm 1 to 23\n",
    "    sample.append(i)\n",
    "    \n",
    "products = santander_train\n",
    "products = products.drop(products.columns[sample], axis = 1) "
   ]
  },
  {
   "cell_type": "code",
   "execution_count": 51,
   "metadata": {
    "collapsed": false
   },
   "outputs": [],
   "source": [
    "#filling nan's in the two columns\n",
    "products['ind_nomina_ult1'] = products['ind_nomina_ult1'].fillna(0)\n",
    "products['ind_nom_pens_ult1'] = products['ind_nom_pens_ult1'].fillna(0)"
   ]
  },
  {
   "cell_type": "code",
   "execution_count": 52,
   "metadata": {
    "collapsed": false
   },
   "outputs": [
    {
     "name": "stdout",
     "output_type": "stream",
     "text": [
      "fecha_dato                object\n",
      "ncodpers                 float64\n",
      "ind_empleado             float64\n",
      "pais_residencia          float64\n",
      "sexo                     float64\n",
      "age                      float64\n",
      "ind_nuevo                float64\n",
      "antiguedad               float64\n",
      "indrel                   float64\n",
      "indrel_1mes              float64\n",
      "tiprel_1mes              float64\n",
      "indresi                  float64\n",
      "indext                   float64\n",
      "conyuemp                 float64\n",
      "canal_entrada            float64\n",
      "indfall                  float64\n",
      "tipodom                  float64\n",
      "cod_prov                 float64\n",
      "nomprov                  float64\n",
      "ind_actividad_cliente    float64\n",
      "renta                    float64\n",
      "segmento                 float64\n",
      "dtype: object\n"
     ]
    }
   ],
   "source": [
    "print(santander.dtypes)"
   ]
  },
  {
   "cell_type": "code",
   "execution_count": 53,
   "metadata": {
    "collapsed": false
   },
   "outputs": [],
   "source": [
    "from scipy import optimize\n",
    "\n",
    "nprod = products.shape[1] - 1 #number of products in dataset\n",
    "n = santander.shape[1] - 2    #number of features of training data\n",
    "big_theta = np.zeros([nprod,n])\n",
    "\n",
    "for npr in range(0,nprod):\n",
    "    for t in range(0,ndates[0]):\n",
    "        strain = santander_dates.get_group(uniq_date[t])\n",
    "        strain = strain.drop(['fecha_dato','ncodpers'],axis = 1)\n",
    "        \n",
    "        size = strain.shape\n",
    "        m = size[0] #training examples \n",
    "        n = size[1] #features\n",
    "        strain = strain.as_matrix() #converting dataframe to matrix \n",
    "        \n",
    "        label = products.groupby('fecha_dato')\n",
    "        label = label.get_group(uniq_date[t])\n",
    "        label = label.drop(['fecha_dato'],axis = 1)\n",
    "        \n",
    "        labels = label.iloc[:,npr]\n",
    "        labels = np.array(labels) #converting pandas Series into numpy array\n",
    "\n",
    "        if(t==0):\n",
    "            theta = np.zeros(n)      \n",
    "        \n",
    "        def sigmoid(z):    \n",
    "            h = 1/(1 + np.exp(-z))\n",
    "            return h\n",
    "        \n",
    "        def cost_function(theta):\n",
    "    \n",
    "            z = np.dot(strain, theta)\n",
    "            h = sigmoid(z)    \n",
    "            cost = -np.dot(np.transpose(labels),np.log(h)) - np.dot(np.transpose(1 - labels),np.log(1 - h))\n",
    "            cost = cost/m \n",
    "            \n",
    "            return cost\n",
    "        \n",
    "        def gradient_cost_function(theta):\n",
    "            \n",
    "            dummy = np.zeros(m) #array of size mx1   \n",
    "            z = np.dot(strain, theta)\n",
    "            h = sigmoid(z)    \n",
    "            dummy = h - labels                \n",
    "            grad = (1/m)*np.dot(np.transpose(strain),dummy)        \n",
    "            return grad\n",
    "        \n",
    "        theta = scipy.optimize.fmin_bfgs(cost_function, theta, gradient_cost_function, disp = False)\n",
    "    \n",
    "    big_theta[npr,:] = theta"
   ]
  },
  {
   "cell_type": "markdown",
   "metadata": {},
   "source": [
    "# Implementing model on Test Set"
   ]
  },
  {
   "cell_type": "markdown",
   "metadata": {
    "collapsed": false
   },
   "source": [
    "Cleaning the Test Set"
   ]
  },
  {
   "cell_type": "code",
   "execution_count": 54,
   "metadata": {
    "collapsed": false
   },
   "outputs": [
    {
     "data": {
      "text/html": [
       "<div>\n",
       "<table border=\"1\" class=\"dataframe\">\n",
       "  <thead>\n",
       "    <tr style=\"text-align: right;\">\n",
       "      <th></th>\n",
       "      <th>fecha_dato</th>\n",
       "      <th>ncodpers</th>\n",
       "      <th>ind_empleado</th>\n",
       "      <th>pais_residencia</th>\n",
       "      <th>sexo</th>\n",
       "      <th>age</th>\n",
       "      <th>fecha_alta</th>\n",
       "      <th>ind_nuevo</th>\n",
       "      <th>antiguedad</th>\n",
       "      <th>indrel</th>\n",
       "      <th>...</th>\n",
       "      <th>indext</th>\n",
       "      <th>conyuemp</th>\n",
       "      <th>canal_entrada</th>\n",
       "      <th>indfall</th>\n",
       "      <th>tipodom</th>\n",
       "      <th>cod_prov</th>\n",
       "      <th>nomprov</th>\n",
       "      <th>ind_actividad_cliente</th>\n",
       "      <th>renta</th>\n",
       "      <th>segmento</th>\n",
       "    </tr>\n",
       "  </thead>\n",
       "  <tbody>\n",
       "    <tr>\n",
       "      <th>0</th>\n",
       "      <td>2016-06-28</td>\n",
       "      <td>15889</td>\n",
       "      <td>F</td>\n",
       "      <td>ES</td>\n",
       "      <td>V</td>\n",
       "      <td>56</td>\n",
       "      <td>1995-01-16</td>\n",
       "      <td>0</td>\n",
       "      <td>256</td>\n",
       "      <td>1</td>\n",
       "      <td>...</td>\n",
       "      <td>N</td>\n",
       "      <td>N</td>\n",
       "      <td>KAT</td>\n",
       "      <td>N</td>\n",
       "      <td>1</td>\n",
       "      <td>28.0</td>\n",
       "      <td>MADRID</td>\n",
       "      <td>1</td>\n",
       "      <td>326124.90</td>\n",
       "      <td>01 - TOP</td>\n",
       "    </tr>\n",
       "    <tr>\n",
       "      <th>1</th>\n",
       "      <td>2016-06-28</td>\n",
       "      <td>1170544</td>\n",
       "      <td>N</td>\n",
       "      <td>ES</td>\n",
       "      <td>H</td>\n",
       "      <td>36</td>\n",
       "      <td>2013-08-28</td>\n",
       "      <td>0</td>\n",
       "      <td>34</td>\n",
       "      <td>1</td>\n",
       "      <td>...</td>\n",
       "      <td>N</td>\n",
       "      <td>NaN</td>\n",
       "      <td>KAT</td>\n",
       "      <td>N</td>\n",
       "      <td>1</td>\n",
       "      <td>3.0</td>\n",
       "      <td>ALICANTE</td>\n",
       "      <td>0</td>\n",
       "      <td>NA</td>\n",
       "      <td>02 - PARTICULARES</td>\n",
       "    </tr>\n",
       "    <tr>\n",
       "      <th>2</th>\n",
       "      <td>2016-06-28</td>\n",
       "      <td>1170545</td>\n",
       "      <td>N</td>\n",
       "      <td>ES</td>\n",
       "      <td>V</td>\n",
       "      <td>22</td>\n",
       "      <td>2013-08-28</td>\n",
       "      <td>0</td>\n",
       "      <td>34</td>\n",
       "      <td>1</td>\n",
       "      <td>...</td>\n",
       "      <td>N</td>\n",
       "      <td>NaN</td>\n",
       "      <td>KHE</td>\n",
       "      <td>N</td>\n",
       "      <td>1</td>\n",
       "      <td>15.0</td>\n",
       "      <td>CORUÑA, A</td>\n",
       "      <td>1</td>\n",
       "      <td>NA</td>\n",
       "      <td>03 - UNIVERSITARIO</td>\n",
       "    </tr>\n",
       "    <tr>\n",
       "      <th>3</th>\n",
       "      <td>2016-06-28</td>\n",
       "      <td>1170547</td>\n",
       "      <td>N</td>\n",
       "      <td>ES</td>\n",
       "      <td>H</td>\n",
       "      <td>22</td>\n",
       "      <td>2013-08-28</td>\n",
       "      <td>0</td>\n",
       "      <td>34</td>\n",
       "      <td>1</td>\n",
       "      <td>...</td>\n",
       "      <td>N</td>\n",
       "      <td>NaN</td>\n",
       "      <td>KHE</td>\n",
       "      <td>N</td>\n",
       "      <td>1</td>\n",
       "      <td>8.0</td>\n",
       "      <td>BARCELONA</td>\n",
       "      <td>0</td>\n",
       "      <td>148402.98</td>\n",
       "      <td>03 - UNIVERSITARIO</td>\n",
       "    </tr>\n",
       "    <tr>\n",
       "      <th>4</th>\n",
       "      <td>2016-06-28</td>\n",
       "      <td>1170548</td>\n",
       "      <td>N</td>\n",
       "      <td>ES</td>\n",
       "      <td>H</td>\n",
       "      <td>22</td>\n",
       "      <td>2013-08-28</td>\n",
       "      <td>0</td>\n",
       "      <td>34</td>\n",
       "      <td>1</td>\n",
       "      <td>...</td>\n",
       "      <td>N</td>\n",
       "      <td>NaN</td>\n",
       "      <td>KHE</td>\n",
       "      <td>N</td>\n",
       "      <td>1</td>\n",
       "      <td>7.0</td>\n",
       "      <td>BALEARS, ILLES</td>\n",
       "      <td>0</td>\n",
       "      <td>106885.80</td>\n",
       "      <td>03 - UNIVERSITARIO</td>\n",
       "    </tr>\n",
       "    <tr>\n",
       "      <th>5</th>\n",
       "      <td>2016-06-28</td>\n",
       "      <td>1170550</td>\n",
       "      <td>N</td>\n",
       "      <td>ES</td>\n",
       "      <td>V</td>\n",
       "      <td>22</td>\n",
       "      <td>2013-08-28</td>\n",
       "      <td>0</td>\n",
       "      <td>34</td>\n",
       "      <td>1</td>\n",
       "      <td>...</td>\n",
       "      <td>N</td>\n",
       "      <td>NaN</td>\n",
       "      <td>KHE</td>\n",
       "      <td>N</td>\n",
       "      <td>1</td>\n",
       "      <td>8.0</td>\n",
       "      <td>BARCELONA</td>\n",
       "      <td>0</td>\n",
       "      <td>NA</td>\n",
       "      <td>03 - UNIVERSITARIO</td>\n",
       "    </tr>\n",
       "    <tr>\n",
       "      <th>6</th>\n",
       "      <td>2016-06-28</td>\n",
       "      <td>1170552</td>\n",
       "      <td>N</td>\n",
       "      <td>ES</td>\n",
       "      <td>H</td>\n",
       "      <td>51</td>\n",
       "      <td>2013-08-28</td>\n",
       "      <td>0</td>\n",
       "      <td>34</td>\n",
       "      <td>1</td>\n",
       "      <td>...</td>\n",
       "      <td>N</td>\n",
       "      <td>NaN</td>\n",
       "      <td>KFC</td>\n",
       "      <td>N</td>\n",
       "      <td>1</td>\n",
       "      <td>35.0</td>\n",
       "      <td>PALMAS, LAS</td>\n",
       "      <td>1</td>\n",
       "      <td>96395.88</td>\n",
       "      <td>02 - PARTICULARES</td>\n",
       "    </tr>\n",
       "    <tr>\n",
       "      <th>7</th>\n",
       "      <td>2016-06-28</td>\n",
       "      <td>1170553</td>\n",
       "      <td>N</td>\n",
       "      <td>ES</td>\n",
       "      <td>H</td>\n",
       "      <td>22</td>\n",
       "      <td>2013-08-28</td>\n",
       "      <td>0</td>\n",
       "      <td>34</td>\n",
       "      <td>1</td>\n",
       "      <td>...</td>\n",
       "      <td>N</td>\n",
       "      <td>NaN</td>\n",
       "      <td>KHE</td>\n",
       "      <td>N</td>\n",
       "      <td>1</td>\n",
       "      <td>45.0</td>\n",
       "      <td>TOLEDO</td>\n",
       "      <td>0</td>\n",
       "      <td>NA</td>\n",
       "      <td>03 - UNIVERSITARIO</td>\n",
       "    </tr>\n",
       "    <tr>\n",
       "      <th>8</th>\n",
       "      <td>2016-06-28</td>\n",
       "      <td>1170555</td>\n",
       "      <td>N</td>\n",
       "      <td>ES</td>\n",
       "      <td>V</td>\n",
       "      <td>22</td>\n",
       "      <td>2013-08-28</td>\n",
       "      <td>0</td>\n",
       "      <td>34</td>\n",
       "      <td>1</td>\n",
       "      <td>...</td>\n",
       "      <td>N</td>\n",
       "      <td>NaN</td>\n",
       "      <td>KHE</td>\n",
       "      <td>N</td>\n",
       "      <td>1</td>\n",
       "      <td>28.0</td>\n",
       "      <td>MADRID</td>\n",
       "      <td>0</td>\n",
       "      <td>NA</td>\n",
       "      <td>03 - UNIVERSITARIO</td>\n",
       "    </tr>\n",
       "    <tr>\n",
       "      <th>9</th>\n",
       "      <td>2016-06-28</td>\n",
       "      <td>1170557</td>\n",
       "      <td>N</td>\n",
       "      <td>ES</td>\n",
       "      <td>H</td>\n",
       "      <td>22</td>\n",
       "      <td>2013-08-28</td>\n",
       "      <td>0</td>\n",
       "      <td>34</td>\n",
       "      <td>1</td>\n",
       "      <td>...</td>\n",
       "      <td>N</td>\n",
       "      <td>NaN</td>\n",
       "      <td>KHE</td>\n",
       "      <td>N</td>\n",
       "      <td>1</td>\n",
       "      <td>15.0</td>\n",
       "      <td>CORUÑA, A</td>\n",
       "      <td>1</td>\n",
       "      <td>68322.72</td>\n",
       "      <td>03 - UNIVERSITARIO</td>\n",
       "    </tr>\n",
       "  </tbody>\n",
       "</table>\n",
       "<p>10 rows × 24 columns</p>\n",
       "</div>"
      ],
      "text/plain": [
       "   fecha_dato  ncodpers ind_empleado pais_residencia sexo  age  fecha_alta  \\\n",
       "0  2016-06-28     15889            F              ES    V   56  1995-01-16   \n",
       "1  2016-06-28   1170544            N              ES    H   36  2013-08-28   \n",
       "2  2016-06-28   1170545            N              ES    V   22  2013-08-28   \n",
       "3  2016-06-28   1170547            N              ES    H   22  2013-08-28   \n",
       "4  2016-06-28   1170548            N              ES    H   22  2013-08-28   \n",
       "5  2016-06-28   1170550            N              ES    V   22  2013-08-28   \n",
       "6  2016-06-28   1170552            N              ES    H   51  2013-08-28   \n",
       "7  2016-06-28   1170553            N              ES    H   22  2013-08-28   \n",
       "8  2016-06-28   1170555            N              ES    V   22  2013-08-28   \n",
       "9  2016-06-28   1170557            N              ES    H   22  2013-08-28   \n",
       "\n",
       "   ind_nuevo  antiguedad  indrel         ...         indext  conyuemp  \\\n",
       "0          0         256       1         ...              N         N   \n",
       "1          0          34       1         ...              N       NaN   \n",
       "2          0          34       1         ...              N       NaN   \n",
       "3          0          34       1         ...              N       NaN   \n",
       "4          0          34       1         ...              N       NaN   \n",
       "5          0          34       1         ...              N       NaN   \n",
       "6          0          34       1         ...              N       NaN   \n",
       "7          0          34       1         ...              N       NaN   \n",
       "8          0          34       1         ...              N       NaN   \n",
       "9          0          34       1         ...              N       NaN   \n",
       "\n",
       "  canal_entrada indfall tipodom cod_prov         nomprov  \\\n",
       "0           KAT       N       1     28.0          MADRID   \n",
       "1           KAT       N       1      3.0        ALICANTE   \n",
       "2           KHE       N       1     15.0       CORUÑA, A   \n",
       "3           KHE       N       1      8.0       BARCELONA   \n",
       "4           KHE       N       1      7.0  BALEARS, ILLES   \n",
       "5           KHE       N       1      8.0       BARCELONA   \n",
       "6           KFC       N       1     35.0     PALMAS, LAS   \n",
       "7           KHE       N       1     45.0          TOLEDO   \n",
       "8           KHE       N       1     28.0          MADRID   \n",
       "9           KHE       N       1     15.0       CORUÑA, A   \n",
       "\n",
       "  ind_actividad_cliente        renta            segmento  \n",
       "0                     1    326124.90            01 - TOP  \n",
       "1                     0           NA   02 - PARTICULARES  \n",
       "2                     1           NA  03 - UNIVERSITARIO  \n",
       "3                     0    148402.98  03 - UNIVERSITARIO  \n",
       "4                     0    106885.80  03 - UNIVERSITARIO  \n",
       "5                     0           NA  03 - UNIVERSITARIO  \n",
       "6                     1     96395.88   02 - PARTICULARES  \n",
       "7                     0           NA  03 - UNIVERSITARIO  \n",
       "8                     0           NA  03 - UNIVERSITARIO  \n",
       "9                     1     68322.72  03 - UNIVERSITARIO  \n",
       "\n",
       "[10 rows x 24 columns]"
      ]
     },
     "execution_count": 54,
     "metadata": {},
     "output_type": "execute_result"
    }
   ],
   "source": [
    "santander_test = pd.read_csv('../Kaggle-Santander/test_ver2.csv')\n",
    "\n",
    "santander_test.head(10)"
   ]
  },
  {
   "cell_type": "code",
   "execution_count": 55,
   "metadata": {
    "collapsed": false
   },
   "outputs": [
    {
     "data": {
      "text/plain": [
       "fecha_dato                    0\n",
       "ncodpers                      0\n",
       "ind_empleado                  0\n",
       "pais_residencia               0\n",
       "sexo                          5\n",
       "age                           0\n",
       "fecha_alta                    0\n",
       "ind_nuevo                     0\n",
       "antiguedad                    0\n",
       "indrel                        0\n",
       "ult_fec_cli_1t           927932\n",
       "indrel_1mes                  23\n",
       "tiprel_1mes                  23\n",
       "indresi                       0\n",
       "indext                        0\n",
       "conyuemp                 929511\n",
       "canal_entrada              2081\n",
       "indfall                       0\n",
       "tipodom                       0\n",
       "cod_prov                   3996\n",
       "nomprov                    3996\n",
       "ind_actividad_cliente         0\n",
       "renta                         0\n",
       "segmento                   2248\n",
       "dtype: int64"
      ]
     },
     "execution_count": 55,
     "metadata": {},
     "output_type": "execute_result"
    }
   ],
   "source": [
    "santander_test.isnull().sum()"
   ]
  },
  {
   "cell_type": "code",
   "execution_count": 56,
   "metadata": {
    "collapsed": false
   },
   "outputs": [
    {
     "name": "stdout",
     "output_type": "stream",
     "text": [
      "fecha_dato                object\n",
      "ncodpers                   int64\n",
      "ind_empleado              object\n",
      "pais_residencia           object\n",
      "sexo                      object\n",
      "age                        int64\n",
      "fecha_alta                object\n",
      "ind_nuevo                  int64\n",
      "antiguedad                 int64\n",
      "indrel                     int64\n",
      "ult_fec_cli_1t            object\n",
      "indrel_1mes              float64\n",
      "tiprel_1mes               object\n",
      "indresi                   object\n",
      "indext                    object\n",
      "conyuemp                  object\n",
      "canal_entrada             object\n",
      "indfall                   object\n",
      "tipodom                    int64\n",
      "cod_prov                 float64\n",
      "nomprov                   object\n",
      "ind_actividad_cliente      int64\n",
      "renta                     object\n",
      "segmento                  object\n",
      "dtype: object\n"
     ]
    }
   ],
   "source": [
    "print(santander_test.dtypes)"
   ]
  },
  {
   "cell_type": "code",
   "execution_count": 57,
   "metadata": {
    "collapsed": false
   },
   "outputs": [],
   "source": [
    "#column ind_empleado\n",
    "santander_test.loc[santander_test.ind_empleado == 'A','ind_empleado'] = 1.0 #A\n",
    "santander_test.loc[santander_test.ind_empleado == 'B','ind_empleado'] = 2.0 #B\n",
    "santander_test.loc[santander_test.ind_empleado == 'F','ind_empleado'] = 3.0 #F\n",
    "santander_test.loc[santander_test.ind_empleado == 'N','ind_empleado'] = 4.0 #N\n",
    "santander_test.loc[santander_test.ind_empleado == 'S','ind_empleado'] = 5.0 #S\n",
    "santander_test['ind_empleado'] = santander_test['ind_empleado'].astype('float64')"
   ]
  },
  {
   "cell_type": "code",
   "execution_count": 58,
   "metadata": {
    "collapsed": true
   },
   "outputs": [],
   "source": [
    "#column pais_residencia\n",
    "for i in range(0,nuniq_country[0]):\n",
    "    santander_test.loc[santander_test.pais_residencia == uniq_country[i], 'pais_residencia'] = i\n",
    "santander_test['pais_residencia'] = santander_test['pais_residencia'].astype('float64')"
   ]
  },
  {
   "cell_type": "code",
   "execution_count": 59,
   "metadata": {
    "collapsed": true
   },
   "outputs": [],
   "source": [
    "#column sex \n",
    "santander_test.loc[santander_test.sexo == 'H','sexo'] = 0.0 \n",
    "santander_test.loc[santander_test.sexo == 'V','sexo'] = 1.0\n",
    "santander_test['sexo'] = santander_test['sexo'].fillna(1.0)\n",
    "santander_test['sexo'] = santander_test['sexo'].astype('float64')"
   ]
  },
  {
   "cell_type": "code",
   "execution_count": 60,
   "metadata": {
    "collapsed": false
   },
   "outputs": [],
   "source": [
    "#column age\n",
    "santander_test['age'] = santander_test['age'].astype('float64')"
   ]
  },
  {
   "cell_type": "code",
   "execution_count": 61,
   "metadata": {
    "collapsed": true
   },
   "outputs": [],
   "source": [
    "#column fecha_alta and ult_fec_cli_lt\n",
    "santander_test = santander_test.drop(['fecha_alta','ult_fec_cli_1t'], axis = 1)"
   ]
  },
  {
   "cell_type": "code",
   "execution_count": 62,
   "metadata": {
    "collapsed": false
   },
   "outputs": [],
   "source": [
    "#columns ind_nuevo, antiguedad and indrel\n",
    "santander_test[['ind_nuevo','antiguedad','indrel']] = santander_test[['ind_nuevo','antiguedad','indrel']].astype('float64')"
   ]
  },
  {
   "cell_type": "code",
   "execution_count": 63,
   "metadata": {
    "collapsed": false
   },
   "outputs": [],
   "source": [
    "#column indrel_1mes\n",
    "santander_test['indrel_1mes'] = santander_test['indrel_1mes'].fillna(1.0)\n",
    "santander_test['indrel_1mes'] = santander_test['indrel_1mes'].astype('float64')"
   ]
  },
  {
   "cell_type": "code",
   "execution_count": 64,
   "metadata": {
    "collapsed": false
   },
   "outputs": [],
   "source": [
    "#column tiprel_1mes\n",
    "santander_test.loc[santander_test.tiprel_1mes == 'I','tiprel_1mes'] = 0.0 #inactive \n",
    "santander_test.loc[santander_test.tiprel_1mes == 'A','tiprel_1mes'] = 1.0 #active\n",
    "santander_test.loc[santander_test.tiprel_1mes == 'P','tiprel_1mes'] = 3.0 #former\n",
    "santander_test['tiprel_1mes'] = santander_test['tiprel_1mes'].fillna(0.0)\n",
    "santander_test['tiprel_1mes'] = santander_test['tiprel_1mes'].astype('float64')"
   ]
  },
  {
   "cell_type": "code",
   "execution_count": 65,
   "metadata": {
    "collapsed": false
   },
   "outputs": [],
   "source": [
    "#column indresi\n",
    "santander_test.loc[santander_test.indresi == 'N','indresi'] = 0.0 #bank country != residence country\n",
    "santander_test.loc[santander_test.indresi == 'S','indresi'] = 1.0 #bank country == residence country\n",
    "santander_test['indresi'] = santander_test['indresi'].fillna(1.0)\n",
    "santander_test['indresi'] = santander_test['indresi'].astype('float64')"
   ]
  },
  {
   "cell_type": "code",
   "execution_count": 66,
   "metadata": {
    "collapsed": false
   },
   "outputs": [],
   "source": [
    "#column indext\n",
    "santander_test.loc[santander_test.indext == 'N','indext'] = 0.0\n",
    "santander_test.loc[santander_test.indext == 'S','indext'] = 1.0\n",
    "santander_test['indext'] = santander_test['indext'].fillna(0.0)\n",
    "santander_test['indext'] = santander_test['indext'].astype('float64')"
   ]
  },
  {
   "cell_type": "code",
   "execution_count": 67,
   "metadata": {
    "collapsed": false
   },
   "outputs": [],
   "source": [
    "#column conyuemp\n",
    "santander_test.loc[santander_test.conyuemp == 'N','conyuemp'] = 0.0\n",
    "santander_test.loc[santander_test.conyuemp == 'S','conyuemp'] = 1.0\n",
    "santander_test['conyuemp'] = santander_test['conyuemp'].fillna(0.0)\n",
    "santander_test['conyuemp'] = santander_test['conyuemp'].astype('float64')"
   ]
  },
  {
   "cell_type": "code",
   "execution_count": 68,
   "metadata": {
    "collapsed": true
   },
   "outputs": [],
   "source": [
    "#column canal_entrada\n",
    "santander_test['canal_entrada'] = santander_test['canal_entrada'].fillna(50000)\n",
    "for i in range(0,nuniq[0]):\n",
    "    santander_test.loc[santander_test.canal_entrada == uniq_channel[i], 'canal_entrada'] = i\n",
    "santander_test['canal_entrada'] = santander_test['canal_entrada'].astype('float64')"
   ]
  },
  {
   "cell_type": "code",
   "execution_count": 69,
   "metadata": {
    "collapsed": true
   },
   "outputs": [],
   "source": [
    "#column indfall\n",
    "santander_test.loc[santander_test.indfall == 'N','indfall'] = 0.0\n",
    "santander_test.loc[santander_test.indfall == 'S','indfall'] = 1.0\n",
    "santander_test['indfall'] = santander_test['indfall'].fillna(0.0)\n",
    "santander_test['indfall'] = santander_test['indfall'].astype('float64')"
   ]
  },
  {
   "cell_type": "code",
   "execution_count": 70,
   "metadata": {
    "collapsed": false
   },
   "outputs": [],
   "source": [
    "#column tipodom\n",
    "santander_test['tipodom'] = santander_test['tipodom'].astype('float64')"
   ]
  },
  {
   "cell_type": "code",
   "execution_count": 71,
   "metadata": {
    "collapsed": false
   },
   "outputs": [],
   "source": [
    "#columm cod_prov\n",
    "santander_test['cod_prov'] = santander_test['cod_prov'].fillna(28.0)\n",
    "santander_test['cod_prov'] = santander_test['cod_prov'].astype('float64')"
   ]
  },
  {
   "cell_type": "code",
   "execution_count": 72,
   "metadata": {
    "collapsed": false
   },
   "outputs": [],
   "source": [
    "#column nomprov\n",
    "santander_test['nomprov'] = santander_test['nomprov'].fillna('UNKNOWN')\n",
    "for i in range(0,nuniq_prov[0]):\n",
    "    santander_test.loc[santander_test.nomprov == uniq_prov[i], 'nomprov'] = i\n",
    "santander_test['nomprov'] = santander_test['nomprov'].astype('float64')    "
   ]
  },
  {
   "cell_type": "code",
   "execution_count": 73,
   "metadata": {
    "collapsed": true
   },
   "outputs": [],
   "source": [
    "#column ind_actividad_cliente\n",
    "santander_test['ind_actividad_cliente'] = santander_test['ind_actividad_cliente'].astype('float64')"
   ]
  },
  {
   "cell_type": "code",
   "execution_count": 74,
   "metadata": {
    "collapsed": false
   },
   "outputs": [],
   "source": [
    "#column renta\n",
    "santander_test['renta'] = pd.to_numeric(santander_test['renta'],errors = \"coerce\")\n",
    "santander_test['renta'] = santander_test['renta'].fillna(santander_test['renta'].mean())"
   ]
  },
  {
   "cell_type": "code",
   "execution_count": 75,
   "metadata": {
    "collapsed": false
   },
   "outputs": [],
   "source": [
    "#column segmento\n",
    "santander_test.loc[santander_test.segmento == '01 - TOP','segmento'] = 1.0\n",
    "santander_test.loc[santander_test.segmento == '02 - PARTICULARES','segmento'] = 2.0\n",
    "santander_test.loc[santander_test.segmento == '03 - UNIVERSITARIO','segmento'] = 3.0\n",
    "santander_test['segmento'] = santander_test['segmento'].fillna(2.0)"
   ]
  },
  {
   "cell_type": "code",
   "execution_count": 76,
   "metadata": {
    "collapsed": true
   },
   "outputs": [],
   "source": [
    "test_ccodes = santander_test['ncodpers']\n",
    "santander_test = santander_test.drop(['fecha_dato','ncodpers'],axis = 1)"
   ]
  },
  {
   "cell_type": "code",
   "execution_count": 77,
   "metadata": {
    "collapsed": false
   },
   "outputs": [],
   "source": [
    "def sigmoid(z):    \n",
    "    h = 1/(1 + np.exp(-z))\n",
    "    return h"
   ]
  },
  {
   "cell_type": "code",
   "execution_count": 105,
   "metadata": {
    "collapsed": false
   },
   "outputs": [],
   "source": [
    "stest = santander_test.as_matrix()\n",
    "z = np.dot(stest, np.transpose(big_theta))\n",
    "spredictions = sigmoid(z)"
   ]
  },
  {
   "cell_type": "code",
   "execution_count": 106,
   "metadata": {
    "collapsed": false
   },
   "outputs": [],
   "source": [
    "prod_col_list = list(products.columns.values)\n",
    "prod_col_list.remove('fecha_dato')"
   ]
  },
  {
   "cell_type": "code",
   "execution_count": 107,
   "metadata": {
    "collapsed": true
   },
   "outputs": [],
   "source": [
    "#converting the spredictions matrix into dataframe\n",
    "spredictions = pd.DataFrame(spredictions,columns = [prod_col_list])"
   ]
  },
  {
   "cell_type": "code",
   "execution_count": 108,
   "metadata": {
    "collapsed": false
   },
   "outputs": [],
   "source": [
    "#adding the customer code column to dataframe\n",
    "test_ccodes = pd.DataFrame(test_ccodes,columns = ['ncodpers'])\n",
    "spredictions = test_ccodes.join(spredictions)"
   ]
  },
  {
   "cell_type": "code",
   "execution_count": 109,
   "metadata": {
    "collapsed": false
   },
   "outputs": [],
   "source": [
    "spredictions = spredictions.sort(['ncodpers'],ascending = True)"
   ]
  },
  {
   "cell_type": "code",
   "execution_count": 130,
   "metadata": {
    "collapsed": false
   },
   "outputs": [],
   "source": [
    "prod_last_month = products.groupby('fecha_dato')\n",
    "prod_last_month = prod_last_month.get_group(uniq_date[16])\n",
    "\n",
    "ccodes_last_month = santander.groupby('fecha_dato')\n",
    "ccodes_last_month = ccodes_last_month.get_group(uniq_date[16])\n",
    "ccodes_last_month = ccodes_last_month['ncodpers']\n",
    "ccodes_last_month = pd.DataFrame(ccodes_last_month, columns = ['ncodpers'])\n",
    "\n",
    "prod_last_month = ccodes_last_month.join(prod_last_month)\n",
    "prod_last_month = prod_last_month.drop(['fecha_dato'],axis = 1)\n",
    "prod_last_month = prod_last_month.sort(['ncodpers'],ascending = True)"
   ]
  },
  {
   "cell_type": "code",
   "execution_count": 145,
   "metadata": {
    "collapsed": false
   },
   "outputs": [],
   "source": [
    "spredictions = spredictions.reset_index(drop=True)\n",
    "prod_last_month = prod_last_month.reset_index(drop=True)"
   ]
  },
  {
   "cell_type": "code",
   "execution_count": 147,
   "metadata": {
    "collapsed": false
   },
   "outputs": [
    {
     "data": {
      "text/html": [
       "<div>\n",
       "<table border=\"1\" class=\"dataframe\">\n",
       "  <thead>\n",
       "    <tr style=\"text-align: right;\">\n",
       "      <th></th>\n",
       "      <th>ncodpers</th>\n",
       "      <th>ind_ahor_fin_ult1</th>\n",
       "      <th>ind_aval_fin_ult1</th>\n",
       "      <th>ind_cco_fin_ult1</th>\n",
       "      <th>ind_cder_fin_ult1</th>\n",
       "      <th>ind_cno_fin_ult1</th>\n",
       "      <th>ind_ctju_fin_ult1</th>\n",
       "      <th>ind_ctma_fin_ult1</th>\n",
       "      <th>ind_ctop_fin_ult1</th>\n",
       "      <th>ind_ctpp_fin_ult1</th>\n",
       "      <th>...</th>\n",
       "      <th>ind_hip_fin_ult1</th>\n",
       "      <th>ind_plan_fin_ult1</th>\n",
       "      <th>ind_pres_fin_ult1</th>\n",
       "      <th>ind_reca_fin_ult1</th>\n",
       "      <th>ind_tjcr_fin_ult1</th>\n",
       "      <th>ind_valo_fin_ult1</th>\n",
       "      <th>ind_viv_fin_ult1</th>\n",
       "      <th>ind_nomina_ult1</th>\n",
       "      <th>ind_nom_pens_ult1</th>\n",
       "      <th>ind_recibo_ult1</th>\n",
       "    </tr>\n",
       "  </thead>\n",
       "  <tbody>\n",
       "    <tr>\n",
       "      <th>0</th>\n",
       "      <td>15889</td>\n",
       "      <td>1.0</td>\n",
       "      <td>1.0</td>\n",
       "      <td>0.0</td>\n",
       "      <td>0.0</td>\n",
       "      <td>0.0</td>\n",
       "      <td>2.811165e-41</td>\n",
       "      <td>1.0</td>\n",
       "      <td>0.000000e+00</td>\n",
       "      <td>1.0</td>\n",
       "      <td>...</td>\n",
       "      <td>0.0</td>\n",
       "      <td>1.0</td>\n",
       "      <td>0.0</td>\n",
       "      <td>1.0</td>\n",
       "      <td>1.0</td>\n",
       "      <td>1.0</td>\n",
       "      <td>1.0</td>\n",
       "      <td>0.0</td>\n",
       "      <td>0.000000e+00</td>\n",
       "      <td>0.000000e+00</td>\n",
       "    </tr>\n",
       "    <tr>\n",
       "      <th>1</th>\n",
       "      <td>15890</td>\n",
       "      <td>1.0</td>\n",
       "      <td>1.0</td>\n",
       "      <td>0.0</td>\n",
       "      <td>0.0</td>\n",
       "      <td>0.0</td>\n",
       "      <td>1.013419e-134</td>\n",
       "      <td>1.0</td>\n",
       "      <td>2.686576e-10</td>\n",
       "      <td>1.0</td>\n",
       "      <td>...</td>\n",
       "      <td>0.0</td>\n",
       "      <td>1.0</td>\n",
       "      <td>0.0</td>\n",
       "      <td>1.0</td>\n",
       "      <td>1.0</td>\n",
       "      <td>1.0</td>\n",
       "      <td>1.0</td>\n",
       "      <td>0.0</td>\n",
       "      <td>2.219478e-265</td>\n",
       "      <td>4.011984e-91</td>\n",
       "    </tr>\n",
       "    <tr>\n",
       "      <th>2</th>\n",
       "      <td>15892</td>\n",
       "      <td>1.0</td>\n",
       "      <td>1.0</td>\n",
       "      <td>0.0</td>\n",
       "      <td>0.0</td>\n",
       "      <td>0.0</td>\n",
       "      <td>2.830750e-39</td>\n",
       "      <td>1.0</td>\n",
       "      <td>0.000000e+00</td>\n",
       "      <td>1.0</td>\n",
       "      <td>...</td>\n",
       "      <td>0.0</td>\n",
       "      <td>1.0</td>\n",
       "      <td>0.0</td>\n",
       "      <td>1.0</td>\n",
       "      <td>1.0</td>\n",
       "      <td>1.0</td>\n",
       "      <td>1.0</td>\n",
       "      <td>0.0</td>\n",
       "      <td>0.000000e+00</td>\n",
       "      <td>0.000000e+00</td>\n",
       "    </tr>\n",
       "    <tr>\n",
       "      <th>3</th>\n",
       "      <td>15893</td>\n",
       "      <td>1.0</td>\n",
       "      <td>1.0</td>\n",
       "      <td>0.0</td>\n",
       "      <td>0.0</td>\n",
       "      <td>0.0</td>\n",
       "      <td>9.276549e-51</td>\n",
       "      <td>1.0</td>\n",
       "      <td>0.000000e+00</td>\n",
       "      <td>1.0</td>\n",
       "      <td>...</td>\n",
       "      <td>0.0</td>\n",
       "      <td>1.0</td>\n",
       "      <td>0.0</td>\n",
       "      <td>1.0</td>\n",
       "      <td>1.0</td>\n",
       "      <td>1.0</td>\n",
       "      <td>1.0</td>\n",
       "      <td>0.0</td>\n",
       "      <td>0.000000e+00</td>\n",
       "      <td>0.000000e+00</td>\n",
       "    </tr>\n",
       "    <tr>\n",
       "      <th>4</th>\n",
       "      <td>15894</td>\n",
       "      <td>1.0</td>\n",
       "      <td>1.0</td>\n",
       "      <td>0.0</td>\n",
       "      <td>0.0</td>\n",
       "      <td>0.0</td>\n",
       "      <td>3.582647e-66</td>\n",
       "      <td>1.0</td>\n",
       "      <td>0.000000e+00</td>\n",
       "      <td>1.0</td>\n",
       "      <td>...</td>\n",
       "      <td>0.0</td>\n",
       "      <td>1.0</td>\n",
       "      <td>0.0</td>\n",
       "      <td>1.0</td>\n",
       "      <td>1.0</td>\n",
       "      <td>1.0</td>\n",
       "      <td>1.0</td>\n",
       "      <td>0.0</td>\n",
       "      <td>0.000000e+00</td>\n",
       "      <td>0.000000e+00</td>\n",
       "    </tr>\n",
       "    <tr>\n",
       "      <th>5</th>\n",
       "      <td>15895</td>\n",
       "      <td>1.0</td>\n",
       "      <td>1.0</td>\n",
       "      <td>0.0</td>\n",
       "      <td>0.0</td>\n",
       "      <td>0.0</td>\n",
       "      <td>5.005734e-48</td>\n",
       "      <td>1.0</td>\n",
       "      <td>0.000000e+00</td>\n",
       "      <td>1.0</td>\n",
       "      <td>...</td>\n",
       "      <td>0.0</td>\n",
       "      <td>1.0</td>\n",
       "      <td>0.0</td>\n",
       "      <td>1.0</td>\n",
       "      <td>1.0</td>\n",
       "      <td>1.0</td>\n",
       "      <td>1.0</td>\n",
       "      <td>0.0</td>\n",
       "      <td>0.000000e+00</td>\n",
       "      <td>1.595255e-277</td>\n",
       "    </tr>\n",
       "    <tr>\n",
       "      <th>6</th>\n",
       "      <td>15896</td>\n",
       "      <td>1.0</td>\n",
       "      <td>1.0</td>\n",
       "      <td>0.0</td>\n",
       "      <td>0.0</td>\n",
       "      <td>0.0</td>\n",
       "      <td>1.995993e-52</td>\n",
       "      <td>1.0</td>\n",
       "      <td>1.459669e-269</td>\n",
       "      <td>1.0</td>\n",
       "      <td>...</td>\n",
       "      <td>0.0</td>\n",
       "      <td>1.0</td>\n",
       "      <td>0.0</td>\n",
       "      <td>1.0</td>\n",
       "      <td>1.0</td>\n",
       "      <td>1.0</td>\n",
       "      <td>1.0</td>\n",
       "      <td>0.0</td>\n",
       "      <td>0.000000e+00</td>\n",
       "      <td>5.816867e-248</td>\n",
       "    </tr>\n",
       "    <tr>\n",
       "      <th>7</th>\n",
       "      <td>15897</td>\n",
       "      <td>1.0</td>\n",
       "      <td>1.0</td>\n",
       "      <td>0.0</td>\n",
       "      <td>0.0</td>\n",
       "      <td>0.0</td>\n",
       "      <td>6.298027e-103</td>\n",
       "      <td>1.0</td>\n",
       "      <td>1.206923e-252</td>\n",
       "      <td>1.0</td>\n",
       "      <td>...</td>\n",
       "      <td>0.0</td>\n",
       "      <td>1.0</td>\n",
       "      <td>0.0</td>\n",
       "      <td>1.0</td>\n",
       "      <td>1.0</td>\n",
       "      <td>1.0</td>\n",
       "      <td>1.0</td>\n",
       "      <td>0.0</td>\n",
       "      <td>0.000000e+00</td>\n",
       "      <td>4.671545e-236</td>\n",
       "    </tr>\n",
       "    <tr>\n",
       "      <th>8</th>\n",
       "      <td>15898</td>\n",
       "      <td>1.0</td>\n",
       "      <td>1.0</td>\n",
       "      <td>0.0</td>\n",
       "      <td>0.0</td>\n",
       "      <td>0.0</td>\n",
       "      <td>1.603310e-111</td>\n",
       "      <td>1.0</td>\n",
       "      <td>3.358665e-249</td>\n",
       "      <td>1.0</td>\n",
       "      <td>...</td>\n",
       "      <td>0.0</td>\n",
       "      <td>1.0</td>\n",
       "      <td>0.0</td>\n",
       "      <td>1.0</td>\n",
       "      <td>1.0</td>\n",
       "      <td>1.0</td>\n",
       "      <td>1.0</td>\n",
       "      <td>0.0</td>\n",
       "      <td>0.000000e+00</td>\n",
       "      <td>2.595560e-246</td>\n",
       "    </tr>\n",
       "    <tr>\n",
       "      <th>9</th>\n",
       "      <td>15899</td>\n",
       "      <td>1.0</td>\n",
       "      <td>1.0</td>\n",
       "      <td>0.0</td>\n",
       "      <td>0.0</td>\n",
       "      <td>0.0</td>\n",
       "      <td>8.446999e-95</td>\n",
       "      <td>1.0</td>\n",
       "      <td>3.177432e-148</td>\n",
       "      <td>1.0</td>\n",
       "      <td>...</td>\n",
       "      <td>0.0</td>\n",
       "      <td>1.0</td>\n",
       "      <td>0.0</td>\n",
       "      <td>1.0</td>\n",
       "      <td>1.0</td>\n",
       "      <td>1.0</td>\n",
       "      <td>1.0</td>\n",
       "      <td>0.0</td>\n",
       "      <td>0.000000e+00</td>\n",
       "      <td>1.344165e-174</td>\n",
       "    </tr>\n",
       "  </tbody>\n",
       "</table>\n",
       "<p>10 rows × 25 columns</p>\n",
       "</div>"
      ],
      "text/plain": [
       "   ncodpers  ind_ahor_fin_ult1  ind_aval_fin_ult1  ind_cco_fin_ult1  \\\n",
       "0     15889                1.0                1.0               0.0   \n",
       "1     15890                1.0                1.0               0.0   \n",
       "2     15892                1.0                1.0               0.0   \n",
       "3     15893                1.0                1.0               0.0   \n",
       "4     15894                1.0                1.0               0.0   \n",
       "5     15895                1.0                1.0               0.0   \n",
       "6     15896                1.0                1.0               0.0   \n",
       "7     15897                1.0                1.0               0.0   \n",
       "8     15898                1.0                1.0               0.0   \n",
       "9     15899                1.0                1.0               0.0   \n",
       "\n",
       "   ind_cder_fin_ult1  ind_cno_fin_ult1  ind_ctju_fin_ult1  ind_ctma_fin_ult1  \\\n",
       "0                0.0               0.0       2.811165e-41                1.0   \n",
       "1                0.0               0.0      1.013419e-134                1.0   \n",
       "2                0.0               0.0       2.830750e-39                1.0   \n",
       "3                0.0               0.0       9.276549e-51                1.0   \n",
       "4                0.0               0.0       3.582647e-66                1.0   \n",
       "5                0.0               0.0       5.005734e-48                1.0   \n",
       "6                0.0               0.0       1.995993e-52                1.0   \n",
       "7                0.0               0.0      6.298027e-103                1.0   \n",
       "8                0.0               0.0      1.603310e-111                1.0   \n",
       "9                0.0               0.0       8.446999e-95                1.0   \n",
       "\n",
       "   ind_ctop_fin_ult1  ind_ctpp_fin_ult1       ...         ind_hip_fin_ult1  \\\n",
       "0       0.000000e+00                1.0       ...                      0.0   \n",
       "1       2.686576e-10                1.0       ...                      0.0   \n",
       "2       0.000000e+00                1.0       ...                      0.0   \n",
       "3       0.000000e+00                1.0       ...                      0.0   \n",
       "4       0.000000e+00                1.0       ...                      0.0   \n",
       "5       0.000000e+00                1.0       ...                      0.0   \n",
       "6      1.459669e-269                1.0       ...                      0.0   \n",
       "7      1.206923e-252                1.0       ...                      0.0   \n",
       "8      3.358665e-249                1.0       ...                      0.0   \n",
       "9      3.177432e-148                1.0       ...                      0.0   \n",
       "\n",
       "   ind_plan_fin_ult1  ind_pres_fin_ult1  ind_reca_fin_ult1  ind_tjcr_fin_ult1  \\\n",
       "0                1.0                0.0                1.0                1.0   \n",
       "1                1.0                0.0                1.0                1.0   \n",
       "2                1.0                0.0                1.0                1.0   \n",
       "3                1.0                0.0                1.0                1.0   \n",
       "4                1.0                0.0                1.0                1.0   \n",
       "5                1.0                0.0                1.0                1.0   \n",
       "6                1.0                0.0                1.0                1.0   \n",
       "7                1.0                0.0                1.0                1.0   \n",
       "8                1.0                0.0                1.0                1.0   \n",
       "9                1.0                0.0                1.0                1.0   \n",
       "\n",
       "   ind_valo_fin_ult1  ind_viv_fin_ult1  ind_nomina_ult1  ind_nom_pens_ult1  \\\n",
       "0                1.0               1.0              0.0       0.000000e+00   \n",
       "1                1.0               1.0              0.0      2.219478e-265   \n",
       "2                1.0               1.0              0.0       0.000000e+00   \n",
       "3                1.0               1.0              0.0       0.000000e+00   \n",
       "4                1.0               1.0              0.0       0.000000e+00   \n",
       "5                1.0               1.0              0.0       0.000000e+00   \n",
       "6                1.0               1.0              0.0       0.000000e+00   \n",
       "7                1.0               1.0              0.0       0.000000e+00   \n",
       "8                1.0               1.0              0.0       0.000000e+00   \n",
       "9                1.0               1.0              0.0       0.000000e+00   \n",
       "\n",
       "   ind_recibo_ult1  \n",
       "0     0.000000e+00  \n",
       "1     4.011984e-91  \n",
       "2     0.000000e+00  \n",
       "3     0.000000e+00  \n",
       "4     0.000000e+00  \n",
       "5    1.595255e-277  \n",
       "6    5.816867e-248  \n",
       "7    4.671545e-236  \n",
       "8    2.595560e-246  \n",
       "9    1.344165e-174  \n",
       "\n",
       "[10 rows x 25 columns]"
      ]
     },
     "execution_count": 147,
     "metadata": {},
     "output_type": "execute_result"
    }
   ],
   "source": [
    "spredictions.head(10)"
   ]
  },
  {
   "cell_type": "code",
   "execution_count": null,
   "metadata": {
    "collapsed": true
   },
   "outputs": [],
   "source": [
    "spredictions[spredictions]"
   ]
  }
 ],
 "metadata": {
  "kernelspec": {
   "display_name": "Python 3",
   "language": "python",
   "name": "python3"
  },
  "language_info": {
   "codemirror_mode": {
    "name": "ipython",
    "version": 3
   },
   "file_extension": ".py",
   "mimetype": "text/x-python",
   "name": "python",
   "nbconvert_exporter": "python",
   "pygments_lexer": "ipython3",
   "version": "3.5.2"
  }
 },
 "nbformat": 4,
 "nbformat_minor": 1
}
